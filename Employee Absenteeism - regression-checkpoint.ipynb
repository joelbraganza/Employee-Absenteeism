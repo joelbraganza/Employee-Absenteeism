{
 "cells": [
  {
   "cell_type": "markdown",
   "metadata": {},
   "source": [
    "# Employee Absenteeism"
   ]
  },
  {
   "cell_type": "markdown",
   "metadata": {},
   "source": [
    "XYZ is a courier company. As we appreciate that human capital plays an important role in collection, transportation and delivery. The company is passing through genuine issue of Absenteeism. The company has shared it dataset and requested to have an answer on the following areas: <br>\n",
    "1. What changes company should bring to reduce the number of absenteeism? <br>\n",
    "2. How much losses every month can we project in 2011 if same trend of absenteeism continues? <br>\n"
   ]
  },
  {
   "cell_type": "markdown",
   "metadata": {},
   "source": [
    "Let's load the necessary libraries"
   ]
  },
  {
   "cell_type": "code",
   "execution_count": 2,
   "metadata": {},
   "outputs": [],
   "source": [
    "import pandas as pd\n",
    "import numpy as np\n",
    "import seaborn as sns\n",
    "from matplotlib import pyplot as plt"
   ]
  },
  {
   "cell_type": "markdown",
   "metadata": {},
   "source": [
    "Let's load the data."
   ]
  },
  {
   "cell_type": "code",
   "execution_count": 410,
   "metadata": {},
   "outputs": [
    {
     "name": "stdout",
     "output_type": "stream",
     "text": [
      "(740, 21)\n"
     ]
    },
    {
     "data": {
      "text/html": [
       "<div>\n",
       "<style scoped>\n",
       "    .dataframe tbody tr th:only-of-type {\n",
       "        vertical-align: middle;\n",
       "    }\n",
       "\n",
       "    .dataframe tbody tr th {\n",
       "        vertical-align: top;\n",
       "    }\n",
       "\n",
       "    .dataframe thead th {\n",
       "        text-align: right;\n",
       "    }\n",
       "</style>\n",
       "<table border=\"1\" class=\"dataframe\">\n",
       "  <thead>\n",
       "    <tr style=\"text-align: right;\">\n",
       "      <th></th>\n",
       "      <th>ID</th>\n",
       "      <th>Reason for absence</th>\n",
       "      <th>Month of absence</th>\n",
       "      <th>Day of the week</th>\n",
       "      <th>Seasons</th>\n",
       "      <th>Transportation expense</th>\n",
       "      <th>Distance from Residence to Work</th>\n",
       "      <th>Service time</th>\n",
       "      <th>Age</th>\n",
       "      <th>Work load Average/day</th>\n",
       "      <th>Hit target</th>\n",
       "      <th>Disciplinary failure</th>\n",
       "      <th>Education</th>\n",
       "      <th>Son</th>\n",
       "      <th>Social drinker</th>\n",
       "      <th>Social smoker</th>\n",
       "      <th>Pet</th>\n",
       "      <th>Weight</th>\n",
       "      <th>Height</th>\n",
       "      <th>Body mass index</th>\n",
       "      <th>Absenteeism time in hours</th>\n",
       "    </tr>\n",
       "  </thead>\n",
       "  <tbody>\n",
       "    <tr>\n",
       "      <th>29</th>\n",
       "      <td>3</td>\n",
       "      <td>23.0</td>\n",
       "      <td>8.0</td>\n",
       "      <td>6</td>\n",
       "      <td>1</td>\n",
       "      <td>179.0</td>\n",
       "      <td>51.0</td>\n",
       "      <td>18.0</td>\n",
       "      <td>38.0</td>\n",
       "      <td>2,05,917</td>\n",
       "      <td>92.0</td>\n",
       "      <td>0.0</td>\n",
       "      <td>1.0</td>\n",
       "      <td>0.0</td>\n",
       "      <td>1.0</td>\n",
       "      <td>0.0</td>\n",
       "      <td>0.0</td>\n",
       "      <td>89.0</td>\n",
       "      <td>170.0</td>\n",
       "      <td>31.0</td>\n",
       "      <td>2.0</td>\n",
       "    </tr>\n",
       "    <tr>\n",
       "      <th>305</th>\n",
       "      <td>5</td>\n",
       "      <td>23.0</td>\n",
       "      <td>10.0</td>\n",
       "      <td>2</td>\n",
       "      <td>4</td>\n",
       "      <td>235.0</td>\n",
       "      <td>20.0</td>\n",
       "      <td>13.0</td>\n",
       "      <td>43.0</td>\n",
       "      <td>2,65,017</td>\n",
       "      <td>88.0</td>\n",
       "      <td>0.0</td>\n",
       "      <td>1.0</td>\n",
       "      <td>1.0</td>\n",
       "      <td>1.0</td>\n",
       "      <td>0.0</td>\n",
       "      <td>0.0</td>\n",
       "      <td>106.0</td>\n",
       "      <td>167.0</td>\n",
       "      <td>38.0</td>\n",
       "      <td>2.0</td>\n",
       "    </tr>\n",
       "    <tr>\n",
       "      <th>300</th>\n",
       "      <td>5</td>\n",
       "      <td>0.0</td>\n",
       "      <td>10.0</td>\n",
       "      <td>4</td>\n",
       "      <td>4</td>\n",
       "      <td>235.0</td>\n",
       "      <td>20.0</td>\n",
       "      <td>13.0</td>\n",
       "      <td>43.0</td>\n",
       "      <td>2,65,017</td>\n",
       "      <td>88.0</td>\n",
       "      <td>1.0</td>\n",
       "      <td>1.0</td>\n",
       "      <td>1.0</td>\n",
       "      <td>1.0</td>\n",
       "      <td>0.0</td>\n",
       "      <td>0.0</td>\n",
       "      <td>106.0</td>\n",
       "      <td>167.0</td>\n",
       "      <td>38.0</td>\n",
       "      <td>0.0</td>\n",
       "    </tr>\n",
       "    <tr>\n",
       "      <th>407</th>\n",
       "      <td>36</td>\n",
       "      <td>0.0</td>\n",
       "      <td>3.0</td>\n",
       "      <td>5</td>\n",
       "      <td>3</td>\n",
       "      <td>118.0</td>\n",
       "      <td>13.0</td>\n",
       "      <td>18.0</td>\n",
       "      <td>50.0</td>\n",
       "      <td>2,44,387</td>\n",
       "      <td>98.0</td>\n",
       "      <td>1.0</td>\n",
       "      <td>1.0</td>\n",
       "      <td>1.0</td>\n",
       "      <td>1.0</td>\n",
       "      <td>0.0</td>\n",
       "      <td>0.0</td>\n",
       "      <td>98.0</td>\n",
       "      <td>178.0</td>\n",
       "      <td>31.0</td>\n",
       "      <td>0.0</td>\n",
       "    </tr>\n",
       "    <tr>\n",
       "      <th>277</th>\n",
       "      <td>19</td>\n",
       "      <td>0.0</td>\n",
       "      <td>9.0</td>\n",
       "      <td>3</td>\n",
       "      <td>1</td>\n",
       "      <td>291.0</td>\n",
       "      <td>50.0</td>\n",
       "      <td>12.0</td>\n",
       "      <td>32.0</td>\n",
       "      <td>2,94,217</td>\n",
       "      <td>81.0</td>\n",
       "      <td>1.0</td>\n",
       "      <td>1.0</td>\n",
       "      <td>0.0</td>\n",
       "      <td>1.0</td>\n",
       "      <td>0.0</td>\n",
       "      <td>0.0</td>\n",
       "      <td>65.0</td>\n",
       "      <td>169.0</td>\n",
       "      <td>23.0</td>\n",
       "      <td>0.0</td>\n",
       "    </tr>\n",
       "    <tr>\n",
       "      <th>525</th>\n",
       "      <td>13</td>\n",
       "      <td>10.0</td>\n",
       "      <td>10.0</td>\n",
       "      <td>6</td>\n",
       "      <td>4</td>\n",
       "      <td>369.0</td>\n",
       "      <td>17.0</td>\n",
       "      <td>12.0</td>\n",
       "      <td>31.0</td>\n",
       "      <td>2,84,853</td>\n",
       "      <td>91.0</td>\n",
       "      <td>0.0</td>\n",
       "      <td>1.0</td>\n",
       "      <td>3.0</td>\n",
       "      <td>1.0</td>\n",
       "      <td>0.0</td>\n",
       "      <td>0.0</td>\n",
       "      <td>70.0</td>\n",
       "      <td>169.0</td>\n",
       "      <td>25.0</td>\n",
       "      <td>8.0</td>\n",
       "    </tr>\n",
       "    <tr>\n",
       "      <th>473</th>\n",
       "      <td>36</td>\n",
       "      <td>23.0</td>\n",
       "      <td>7.0</td>\n",
       "      <td>6</td>\n",
       "      <td>1</td>\n",
       "      <td>118.0</td>\n",
       "      <td>13.0</td>\n",
       "      <td>18.0</td>\n",
       "      <td>50.0</td>\n",
       "      <td>2,30,290</td>\n",
       "      <td>92.0</td>\n",
       "      <td>0.0</td>\n",
       "      <td>1.0</td>\n",
       "      <td>1.0</td>\n",
       "      <td>1.0</td>\n",
       "      <td>0.0</td>\n",
       "      <td>0.0</td>\n",
       "      <td>98.0</td>\n",
       "      <td>178.0</td>\n",
       "      <td>31.0</td>\n",
       "      <td>1.0</td>\n",
       "    </tr>\n",
       "    <tr>\n",
       "      <th>177</th>\n",
       "      <td>28</td>\n",
       "      <td>11.0</td>\n",
       "      <td>3.0</td>\n",
       "      <td>3</td>\n",
       "      <td>3</td>\n",
       "      <td>225.0</td>\n",
       "      <td>26.0</td>\n",
       "      <td>9.0</td>\n",
       "      <td>28.0</td>\n",
       "      <td>3,43,253</td>\n",
       "      <td>95.0</td>\n",
       "      <td>0.0</td>\n",
       "      <td>1.0</td>\n",
       "      <td>1.0</td>\n",
       "      <td>0.0</td>\n",
       "      <td>0.0</td>\n",
       "      <td>2.0</td>\n",
       "      <td>69.0</td>\n",
       "      <td>169.0</td>\n",
       "      <td>24.0</td>\n",
       "      <td>8.0</td>\n",
       "    </tr>\n",
       "    <tr>\n",
       "      <th>387</th>\n",
       "      <td>24</td>\n",
       "      <td>10.0</td>\n",
       "      <td>2.0</td>\n",
       "      <td>6</td>\n",
       "      <td>2</td>\n",
       "      <td>246.0</td>\n",
       "      <td>25.0</td>\n",
       "      <td>16.0</td>\n",
       "      <td>41.0</td>\n",
       "      <td>2,51,818</td>\n",
       "      <td>96.0</td>\n",
       "      <td>0.0</td>\n",
       "      <td>1.0</td>\n",
       "      <td>0.0</td>\n",
       "      <td>1.0</td>\n",
       "      <td>0.0</td>\n",
       "      <td>0.0</td>\n",
       "      <td>67.0</td>\n",
       "      <td>170.0</td>\n",
       "      <td>23.0</td>\n",
       "      <td>24.0</td>\n",
       "    </tr>\n",
       "    <tr>\n",
       "      <th>581</th>\n",
       "      <td>3</td>\n",
       "      <td>27.0</td>\n",
       "      <td>1.0</td>\n",
       "      <td>4</td>\n",
       "      <td>2</td>\n",
       "      <td>179.0</td>\n",
       "      <td>51.0</td>\n",
       "      <td>18.0</td>\n",
       "      <td>38.0</td>\n",
       "      <td>3,13,532</td>\n",
       "      <td>96.0</td>\n",
       "      <td>0.0</td>\n",
       "      <td>1.0</td>\n",
       "      <td>0.0</td>\n",
       "      <td>1.0</td>\n",
       "      <td>0.0</td>\n",
       "      <td>0.0</td>\n",
       "      <td>89.0</td>\n",
       "      <td>170.0</td>\n",
       "      <td>31.0</td>\n",
       "      <td>3.0</td>\n",
       "    </tr>\n",
       "  </tbody>\n",
       "</table>\n",
       "</div>"
      ],
      "text/plain": [
       "     ID  Reason for absence  Month of absence  Day of the week  Seasons  \\\n",
       "29    3                23.0               8.0                6        1   \n",
       "305   5                23.0              10.0                2        4   \n",
       "300   5                 0.0              10.0                4        4   \n",
       "407  36                 0.0               3.0                5        3   \n",
       "277  19                 0.0               9.0                3        1   \n",
       "525  13                10.0              10.0                6        4   \n",
       "473  36                23.0               7.0                6        1   \n",
       "177  28                11.0               3.0                3        3   \n",
       "387  24                10.0               2.0                6        2   \n",
       "581   3                27.0               1.0                4        2   \n",
       "\n",
       "     Transportation expense  Distance from Residence to Work  Service time  \\\n",
       "29                    179.0                             51.0          18.0   \n",
       "305                   235.0                             20.0          13.0   \n",
       "300                   235.0                             20.0          13.0   \n",
       "407                   118.0                             13.0          18.0   \n",
       "277                   291.0                             50.0          12.0   \n",
       "525                   369.0                             17.0          12.0   \n",
       "473                   118.0                             13.0          18.0   \n",
       "177                   225.0                             26.0           9.0   \n",
       "387                   246.0                             25.0          16.0   \n",
       "581                   179.0                             51.0          18.0   \n",
       "\n",
       "      Age Work load Average/day   Hit target  Disciplinary failure  Education  \\\n",
       "29   38.0               2,05,917        92.0                   0.0        1.0   \n",
       "305  43.0               2,65,017        88.0                   0.0        1.0   \n",
       "300  43.0               2,65,017        88.0                   1.0        1.0   \n",
       "407  50.0               2,44,387        98.0                   1.0        1.0   \n",
       "277  32.0               2,94,217        81.0                   1.0        1.0   \n",
       "525  31.0               2,84,853        91.0                   0.0        1.0   \n",
       "473  50.0               2,30,290        92.0                   0.0        1.0   \n",
       "177  28.0               3,43,253        95.0                   0.0        1.0   \n",
       "387  41.0               2,51,818        96.0                   0.0        1.0   \n",
       "581  38.0               3,13,532        96.0                   0.0        1.0   \n",
       "\n",
       "     Son  Social drinker  Social smoker  Pet  Weight  Height  Body mass index  \\\n",
       "29   0.0             1.0            0.0  0.0    89.0   170.0             31.0   \n",
       "305  1.0             1.0            0.0  0.0   106.0   167.0             38.0   \n",
       "300  1.0             1.0            0.0  0.0   106.0   167.0             38.0   \n",
       "407  1.0             1.0            0.0  0.0    98.0   178.0             31.0   \n",
       "277  0.0             1.0            0.0  0.0    65.0   169.0             23.0   \n",
       "525  3.0             1.0            0.0  0.0    70.0   169.0             25.0   \n",
       "473  1.0             1.0            0.0  0.0    98.0   178.0             31.0   \n",
       "177  1.0             0.0            0.0  2.0    69.0   169.0             24.0   \n",
       "387  0.0             1.0            0.0  0.0    67.0   170.0             23.0   \n",
       "581  0.0             1.0            0.0  0.0    89.0   170.0             31.0   \n",
       "\n",
       "     Absenteeism time in hours  \n",
       "29                         2.0  \n",
       "305                        2.0  \n",
       "300                        0.0  \n",
       "407                        0.0  \n",
       "277                        0.0  \n",
       "525                        8.0  \n",
       "473                        1.0  \n",
       "177                        8.0  \n",
       "387                       24.0  \n",
       "581                        3.0  "
      ]
     },
     "execution_count": 410,
     "metadata": {},
     "output_type": "execute_result"
    }
   ],
   "source": [
    "pd.set_option('display.max_columns', None)\n",
    "df = pd.read_csv('D:\\\\joel\\\\UDEMY -\\\\datasets and codes\\\\Notebooks\\\\.ipynb_checkpoints\\\\employee absenteeism\\\\Absenteeism_at_work_Project.csv')\n",
    "print (df.shape)\n",
    "df.sample(10)"
   ]
  },
  {
   "cell_type": "markdown",
   "metadata": {},
   "source": [
    "There are 20 independent variables and 1 continuous target. Let's explore these variables."
   ]
  },
  {
   "cell_type": "code",
   "execution_count": 185,
   "metadata": {},
   "outputs": [
    {
     "data": {
      "text/plain": [
       "ID                                   int64\n",
       "Reason for absence                 float64\n",
       "Month of absence                   float64\n",
       "Day of the week                      int64\n",
       "Seasons                              int64\n",
       "Transportation expense             float64\n",
       "Distance from Residence to Work    float64\n",
       "Service time                       float64\n",
       "Age                                float64\n",
       "Work load Average/day               object\n",
       "Hit target                         float64\n",
       "Disciplinary failure               float64\n",
       "Education                          float64\n",
       "Son                                float64\n",
       "Social drinker                     float64\n",
       "Social smoker                      float64\n",
       "Pet                                float64\n",
       "Weight                             float64\n",
       "Height                             float64\n",
       "Body mass index                    float64\n",
       "Absenteeism time in hours          float64\n",
       "dtype: object"
      ]
     },
     "execution_count": 185,
     "metadata": {},
     "output_type": "execute_result"
    }
   ],
   "source": [
    "df.dtypes"
   ]
  },
  {
   "cell_type": "code",
   "execution_count": 398,
   "metadata": {},
   "outputs": [
    {
     "name": "stdout",
     "output_type": "stream",
     "text": [
      "38\n"
     ]
    }
   ],
   "source": [
    "#df['Work load Average/day '] = np.int(df['Work load Average/day '].values)\n",
    "print (len(df['Work load Average/day '].value_counts()))\n"
   ]
  },
  {
   "cell_type": "code",
   "execution_count": 399,
   "metadata": {},
   "outputs": [
    {
     "data": {
      "text/plain": [
       "array([ 1.,  0.,  4.,  2.,  5., nan,  8.])"
      ]
     },
     "execution_count": 399,
     "metadata": {},
     "output_type": "execute_result"
    }
   ],
   "source": [
    "df['Pet'].unique()"
   ]
  },
  {
   "cell_type": "markdown",
   "metadata": {},
   "source": [
    "Need to format the values of the variable 'Work load Average/day '"
   ]
  },
  {
   "cell_type": "code",
   "execution_count": 411,
   "metadata": {},
   "outputs": [],
   "source": [
    "vals = list(df['Work load Average/day '].replace([np.NaN],-1).values)    \n",
    "l =np.array([int(''.join(vals[i].split(','))) if vals[i]!=-1 else np.NaN for i in range(df.shape[0]) ])\n",
    "df['Work load Average/day '] = l"
   ]
  },
  {
   "cell_type": "code",
   "execution_count": 105,
   "metadata": {},
   "outputs": [
    {
     "data": {
      "text/plain": [
       "36"
      ]
     },
     "execution_count": 105,
     "metadata": {},
     "output_type": "execute_result"
    }
   ],
   "source": [
    "len(df['ID'].unique())"
   ]
  },
  {
   "cell_type": "markdown",
   "metadata": {},
   "source": [
    "The variable 'ID' has only 36 unique values out ofthe 740 values, this means the variable is categoric."
   ]
  },
  {
   "cell_type": "markdown",
   "metadata": {},
   "source": [
    "The below variables seem categoric in nature."
   ]
  },
  {
   "cell_type": "code",
   "execution_count": 412,
   "metadata": {},
   "outputs": [],
   "source": [
    "cat = ['ID','Reason for absence','Month of absence','Day of the week','Seasons','Disciplinary failure','Education','Son','Social drinker','Social smoker','Pet']\n",
    "num = ['Transportation expense', 'Distance from Residence to Work', 'Service time', 'Age', 'Work load Average/day ', \n",
    "       'Hit target', 'Weight', 'Height', 'Body mass index']"
   ]
  },
  {
   "cell_type": "markdown",
   "metadata": {},
   "source": [
    "Let's check if missing values are present."
   ]
  },
  {
   "cell_type": "code",
   "execution_count": 413,
   "metadata": {},
   "outputs": [
    {
     "name": "stdout",
     "output_type": "stream",
     "text": [
      "ID                                 0.000000\n",
      "Reason for absence                 0.405405\n",
      "Month of absence                   0.135135\n",
      "Day of the week                    0.000000\n",
      "Seasons                            0.000000\n",
      "Transportation expense             0.945946\n",
      "Distance from Residence to Work    0.405405\n",
      "Service time                       0.405405\n",
      "Age                                0.405405\n",
      "Work load Average/day              1.351351\n",
      "Hit target                         0.810811\n",
      "Disciplinary failure               0.810811\n",
      "Education                          1.351351\n",
      "Son                                0.810811\n",
      "Social drinker                     0.405405\n",
      "Social smoker                      0.540541\n",
      "Pet                                0.270270\n",
      "Weight                             0.135135\n",
      "Height                             1.891892\n",
      "Body mass index                    4.189189\n",
      "Absenteeism time in hours          2.972973\n",
      "dtype: float64\n"
     ]
    }
   ],
   "source": [
    "print ((df.isnull().sum()/df.shape[0])*100)"
   ]
  },
  {
   "cell_type": "markdown",
   "metadata": {},
   "source": [
    "All these variables are within the range(30 %) of imputation."
   ]
  },
  {
   "cell_type": "markdown",
   "metadata": {},
   "source": [
    "Let's visualize the distribution of these continuous variables."
   ]
  },
  {
   "cell_type": "code",
   "execution_count": 100,
   "metadata": {},
   "outputs": [
    {
     "name": "stdout",
     "output_type": "stream",
     "text": [
      "Transportation expense\n"
     ]
    },
    {
     "data": {
      "image/png": "[encoded data removed]",
      "text/plain": [
       "<Figure size 432x288 with 1 Axes>"
      ]
     },
     "metadata": {
      "needs_background": "light"
     },
     "output_type": "display_data"
    },
    {
     "name": "stdout",
     "output_type": "stream",
     "text": [
      "Distance from Residence to Work\n"
     ]
    },
    {
     "data": {
      "image/png": "[encoded data removed]",
      "text/plain": [
       "<Figure size 432x288 with 1 Axes>"
      ]
     },
     "metadata": {
      "needs_background": "light"
     },
     "output_type": "display_data"
    },
    {
     "name": "stdout",
     "output_type": "stream",
     "text": [
      "Service time\n"
     ]
    },
    {
     "data": {
      "image/png": "[encoded data removed]",
      "text/plain": [
       "<Figure size 432x288 with 1 Axes>"
      ]
     },
     "metadata": {
      "needs_background": "light"
     },
     "output_type": "display_data"
    },
    {
     "name": "stdout",
     "output_type": "stream",
     "text": [
      "Age\n"
     ]
    },
    {
     "data": {
      "image/png": "[encoded data removed]",
      "text/plain": [
       "<Figure size 432x288 with 1 Axes>"
      ]
     },
     "metadata": {
      "needs_background": "light"
     },
     "output_type": "display_data"
    },
    {
     "name": "stdout",
     "output_type": "stream",
     "text": [
      "Work load Average/day \n"
     ]
    },
    {
     "data": {
      "image/png": "[encoded data removed]",
      "text/plain": [
       "<Figure size 432x288 with 1 Axes>"
      ]
     },
     "metadata": {
      "needs_background": "light"
     },
     "output_type": "display_data"
    },
    {
     "name": "stdout",
     "output_type": "stream",
     "text": [
      "Hit target\n"
     ]
    },
    {
     "data": {
      "image/png": "[encoded data removed]",
      "text/plain": [
       "<Figure size 432x288 with 1 Axes>"
      ]
     },
     "metadata": {
      "needs_background": "light"
     },
     "output_type": "display_data"
    },
    {
     "name": "stdout",
     "output_type": "stream",
     "text": [
      "Weight\n"
     ]
    },
    {
     "data": {
      "image/png": "[encoded data removed]",
      "text/plain": [
       "<Figure size 432x288 with 1 Axes>"
      ]
     },
     "metadata": {
      "needs_background": "light"
     },
     "output_type": "display_data"
    },
    {
     "name": "stdout",
     "output_type": "stream",
     "text": [
      "Height\n"
     ]
    },
    {
     "data": {
      "image/png": "[encoded data removed]",
      "text/plain": [
       "<Figure size 432x288 with 1 Axes>"
      ]
     },
     "metadata": {
      "needs_background": "light"
     },
     "output_type": "display_data"
    },
    {
     "name": "stdout",
     "output_type": "stream",
     "text": [
      "Body mass index\n"
     ]
    },
    {
     "data": {
      "image/png": "[encoded data removed]",
      "text/plain": [
       "<Figure size 432x288 with 1 Axes>"
      ]
     },
     "metadata": {
      "needs_background": "light"
     },
     "output_type": "display_data"
    },
    {
     "name": "stdout",
     "output_type": "stream",
     "text": [
      "Absenteeism time in hours\n"
     ]
    },
    {
     "data": {
      "image/png": "[encoded data removed]",
      "text/plain": [
       "<Figure size 432x288 with 1 Axes>"
      ]
     },
     "metadata": {
      "needs_background": "light"
     },
     "output_type": "display_data"
    }
   ],
   "source": [
    "for c in num+['Absenteeism time in hours']:\n",
    "    print (c)\n",
    "    sns.distplot(df[c],norm_hist=True,color='blue',kde_kws={'label':'KDE'}) # histogram with the kernel-distribution line.\n",
    "    plt.axvline(df[c].mean(), color = 'r', linestyle = 'dashed', linewidth = 2) # plotting mean line\n",
    "    plt.axvline(df[c].median(),color='b',linewidth=2) # plotting median line\n",
    "    plt.show()"
   ]
  },
  {
   "cell_type": "markdown",
   "metadata": {},
   "source": [
    "Some of the variables seem normally distributed and some don't.<br>\n",
    "We can remove the Outliers and finally do an imputation over the missing data."
   ]
  },
  {
   "cell_type": "markdown",
   "metadata": {},
   "source": [
    "### Outlier Removal"
   ]
  },
  {
   "cell_type": "code",
   "execution_count": 414,
   "metadata": {},
   "outputs": [
    {
     "name": "stdout",
     "output_type": "stream",
     "text": [
      "ID                                 0.00\n",
      "Reason for absence                 0.41\n",
      "Month of absence                   0.14\n",
      "Day of the week                    0.00\n",
      "Seasons                            0.00\n",
      "Transportation expense             0.95\n",
      "Distance from Residence to Work    0.41\n",
      "Service time                       0.41\n",
      "Age                                0.41\n",
      "Work load Average/day              1.35\n",
      "Hit target                         0.81\n",
      "Disciplinary failure               0.81\n",
      "Education                          1.35\n",
      "Son                                0.81\n",
      "Social drinker                     0.41\n",
      "Social smoker                      0.54\n",
      "Pet                                0.27\n",
      "Weight                             0.14\n",
      "Height                             1.89\n",
      "Body mass index                    4.19\n",
      "Absenteeism time in hours          2.97\n",
      "dtype: float64\n"
     ]
    }
   ],
   "source": [
    "for c in num+['Absenteeism time in hours']:\n",
    "    q25,q75 = np.percentile(df[c],[25,75])\n",
    "    iqr = q75-q25\n",
    "    minimum = q25 - (iqr*1.5)\n",
    "    maximum = q75 + (iqr*1.5)\n",
    "    df.loc[df[c] > maximum,c] = np.NaN\n",
    "    df.loc[df[c] < minimum,c] = np.NaN\n",
    "    \n",
    "print (round((df.isnull().sum()/df.shape[0])*100,2))    "
   ]
  },
  {
   "cell_type": "markdown",
   "metadata": {},
   "source": [
    "### Data Imputation"
   ]
  },
  {
   "cell_type": "code",
   "execution_count": 415,
   "metadata": {},
   "outputs": [
    {
     "name": "stdout",
     "output_type": "stream",
     "text": [
      "ID                                 0.0\n",
      "Reason for absence                 0.0\n",
      "Month of absence                   0.0\n",
      "Day of the week                    0.0\n",
      "Seasons                            0.0\n",
      "Transportation expense             0.0\n",
      "Distance from Residence to Work    0.0\n",
      "Service time                       0.0\n",
      "Age                                0.0\n",
      "Work load Average/day              0.0\n",
      "Hit target                         0.0\n",
      "Disciplinary failure               0.0\n",
      "Education                          0.0\n",
      "Son                                0.0\n",
      "Social drinker                     0.0\n",
      "Social smoker                      0.0\n",
      "Pet                                0.0\n",
      "Weight                             0.0\n",
      "Height                             0.0\n",
      "Body mass index                    0.0\n",
      "Absenteeism time in hours          0.0\n",
      "dtype: float64\n"
     ]
    }
   ],
   "source": [
    "from sklearn.impute import KNNImputer\n",
    "imputer = KNNImputer(n_neighbors=5)\n",
    "df_array = np.array(df)\n",
    "df2 = pd.DataFrame(data = np.round(imputer.fit_transform(df_array)),columns = df.columns)\n",
    "print ((df2.isnull().sum()/df2.shape[0])*100)"
   ]
  },
  {
   "cell_type": "markdown",
   "metadata": {},
   "source": [
    "Let's look at the relationship between the various independent variables and the target."
   ]
  },
  {
   "cell_type": "markdown",
   "metadata": {},
   "source": [
    "### Data Visualization"
   ]
  },
  {
   "cell_type": "code",
   "execution_count": 397,
   "metadata": {},
   "outputs": [
    {
     "data": {
      "image/png": "[encoded data removed]",
      "text/plain": [
       "<Figure size 432x288 with 1 Axes>"
      ]
     },
     "metadata": {
      "needs_background": "light"
     },
     "output_type": "display_data"
    },
    {
     "data": {
      "image/png": "[encoded data removed]",
      "text/plain": [
       "<Figure size 432x288 with 1 Axes>"
      ]
     },
     "metadata": {
      "needs_background": "light"
     },
     "output_type": "display_data"
    },
    {
     "data": {
      "image/png": "[encoded data removed]",
      "text/plain": [
       "<Figure size 432x288 with 1 Axes>"
      ]
     },
     "metadata": {
      "needs_background": "light"
     },
     "output_type": "display_data"
    },
    {
     "data": {
      "image/png": "[encoded data removed]",
      "text/plain": [
       "<Figure size 432x288 with 1 Axes>"
      ]
     },
     "metadata": {
      "needs_background": "light"
     },
     "output_type": "display_data"
    },
    {
     "data": {
      "image/png": "[encoded data removed]",
      "text/plain": [
       "<Figure size 432x288 with 1 Axes>"
      ]
     },
     "metadata": {
      "needs_background": "light"
     },
     "output_type": "display_data"
    },
    {
     "data": {
      "image/png": "[encoded data removed]",
      "text/plain": [
       "<Figure size 432x288 with 1 Axes>"
      ]
     },
     "metadata": {
      "needs_background": "light"
     },
     "output_type": "display_data"
    },
    {
     "data": {
      "image/png": "[encoded data removed]",
      "text/plain": [
       "<Figure size 432x288 with 1 Axes>"
      ]
     },
     "metadata": {
      "needs_background": "light"
     },
     "output_type": "display_data"
    },
    {
     "data": {
      "image/png": "[encoded data removed]",
      "text/plain": [
       "<Figure size 432x288 with 1 Axes>"
      ]
     },
     "metadata": {
      "needs_background": "light"
     },
     "output_type": "display_data"
    },
    {
     "data": {
      "image/png": "[encoded data removed]",
      "text/plain": [
       "<Figure size 432x288 with 1 Axes>"
      ]
     },
     "metadata": {
      "needs_background": "light"
     },
     "output_type": "display_data"
    },
    {
     "data": {
      "image/png": "[encoded data removed]",
      "text/plain": [
       "<Figure size 432x288 with 1 Axes>"
      ]
     },
     "metadata": {
      "needs_background": "light"
     },
     "output_type": "display_data"
    },
    {
     "data": {
      "image/png": "[encoded data removed]",
      "text/plain": [
       "<Figure size 432x288 with 1 Axes>"
      ]
     },
     "metadata": {
      "needs_background": "light"
     },
     "output_type": "display_data"
    }
   ],
   "source": [
    "for i in cat:\n",
    "    sns.barplot(i, y=\"Absenteeism time in hours\", data=df2,estimator=np.mean)\n",
    "    # estimator=np.size because the mean can become skewed because of disproportionate data points.\n",
    "    plt.show()"
   ]
  },
  {
   "cell_type": "markdown",
   "metadata": {},
   "source": [
    "Let's first normalize the continuous-numeric variables between 0 and 1 before we go any further. "
   ]
  },
  {
   "cell_type": "code",
   "execution_count": 416,
   "metadata": {},
   "outputs": [
    {
     "data": {
      "text/html": [
       "<div>\n",
       "<style scoped>\n",
       "    .dataframe tbody tr th:only-of-type {\n",
       "        vertical-align: middle;\n",
       "    }\n",
       "\n",
       "    .dataframe tbody tr th {\n",
       "        vertical-align: top;\n",
       "    }\n",
       "\n",
       "    .dataframe thead th {\n",
       "        text-align: right;\n",
       "    }\n",
       "</style>\n",
       "<table border=\"1\" class=\"dataframe\">\n",
       "  <thead>\n",
       "    <tr style=\"text-align: right;\">\n",
       "      <th></th>\n",
       "      <th>ID</th>\n",
       "      <th>Reason for absence</th>\n",
       "      <th>Month of absence</th>\n",
       "      <th>Day of the week</th>\n",
       "      <th>Seasons</th>\n",
       "      <th>Transportation expense</th>\n",
       "      <th>Distance from Residence to Work</th>\n",
       "      <th>Service time</th>\n",
       "      <th>Age</th>\n",
       "      <th>Work load Average/day</th>\n",
       "      <th>Hit target</th>\n",
       "      <th>Disciplinary failure</th>\n",
       "      <th>Education</th>\n",
       "      <th>Son</th>\n",
       "      <th>Social drinker</th>\n",
       "      <th>Social smoker</th>\n",
       "      <th>Pet</th>\n",
       "      <th>Weight</th>\n",
       "      <th>Height</th>\n",
       "      <th>Body mass index</th>\n",
       "      <th>Absenteeism time in hours</th>\n",
       "    </tr>\n",
       "  </thead>\n",
       "  <tbody>\n",
       "    <tr>\n",
       "      <th>0</th>\n",
       "      <td>11.0</td>\n",
       "      <td>26.0</td>\n",
       "      <td>7.0</td>\n",
       "      <td>3.0</td>\n",
       "      <td>1.0</td>\n",
       "      <td>0.633333</td>\n",
       "      <td>0.659574</td>\n",
       "      <td>0.428571</td>\n",
       "      <td>0.193548</td>\n",
       "      <td>0.194471</td>\n",
       "      <td>0.842105</td>\n",
       "      <td>0.0</td>\n",
       "      <td>1.0</td>\n",
       "      <td>2.0</td>\n",
       "      <td>1.0</td>\n",
       "      <td>0.0</td>\n",
       "      <td>1.0</td>\n",
       "      <td>0.653846</td>\n",
       "      <td>0.272727</td>\n",
       "      <td>0.578947</td>\n",
       "      <td>4.0</td>\n",
       "    </tr>\n",
       "    <tr>\n",
       "      <th>1</th>\n",
       "      <td>36.0</td>\n",
       "      <td>0.0</td>\n",
       "      <td>7.0</td>\n",
       "      <td>3.0</td>\n",
       "      <td>1.0</td>\n",
       "      <td>0.000000</td>\n",
       "      <td>0.170213</td>\n",
       "      <td>0.607143</td>\n",
       "      <td>0.741935</td>\n",
       "      <td>0.194471</td>\n",
       "      <td>0.842105</td>\n",
       "      <td>1.0</td>\n",
       "      <td>1.0</td>\n",
       "      <td>1.0</td>\n",
       "      <td>1.0</td>\n",
       "      <td>0.0</td>\n",
       "      <td>0.0</td>\n",
       "      <td>0.807692</td>\n",
       "      <td>0.454545</td>\n",
       "      <td>0.631579</td>\n",
       "      <td>0.0</td>\n",
       "    </tr>\n",
       "    <tr>\n",
       "      <th>2</th>\n",
       "      <td>3.0</td>\n",
       "      <td>23.0</td>\n",
       "      <td>7.0</td>\n",
       "      <td>4.0</td>\n",
       "      <td>1.0</td>\n",
       "      <td>0.225926</td>\n",
       "      <td>0.978723</td>\n",
       "      <td>0.607143</td>\n",
       "      <td>0.354839</td>\n",
       "      <td>0.194471</td>\n",
       "      <td>0.842105</td>\n",
       "      <td>0.0</td>\n",
       "      <td>1.0</td>\n",
       "      <td>0.0</td>\n",
       "      <td>1.0</td>\n",
       "      <td>0.0</td>\n",
       "      <td>0.0</td>\n",
       "      <td>0.634615</td>\n",
       "      <td>0.212121</td>\n",
       "      <td>0.631579</td>\n",
       "      <td>2.0</td>\n",
       "    </tr>\n",
       "    <tr>\n",
       "      <th>3</th>\n",
       "      <td>7.0</td>\n",
       "      <td>7.0</td>\n",
       "      <td>7.0</td>\n",
       "      <td>5.0</td>\n",
       "      <td>1.0</td>\n",
       "      <td>0.596296</td>\n",
       "      <td>0.000000</td>\n",
       "      <td>0.464286</td>\n",
       "      <td>0.387097</td>\n",
       "      <td>0.194471</td>\n",
       "      <td>0.842105</td>\n",
       "      <td>0.0</td>\n",
       "      <td>1.0</td>\n",
       "      <td>2.0</td>\n",
       "      <td>1.0</td>\n",
       "      <td>1.0</td>\n",
       "      <td>0.0</td>\n",
       "      <td>0.230769</td>\n",
       "      <td>0.151515</td>\n",
       "      <td>0.263158</td>\n",
       "      <td>4.0</td>\n",
       "    </tr>\n",
       "    <tr>\n",
       "      <th>4</th>\n",
       "      <td>11.0</td>\n",
       "      <td>23.0</td>\n",
       "      <td>7.0</td>\n",
       "      <td>5.0</td>\n",
       "      <td>1.0</td>\n",
       "      <td>0.633333</td>\n",
       "      <td>0.659574</td>\n",
       "      <td>0.428571</td>\n",
       "      <td>0.193548</td>\n",
       "      <td>0.194471</td>\n",
       "      <td>0.842105</td>\n",
       "      <td>0.0</td>\n",
       "      <td>1.0</td>\n",
       "      <td>2.0</td>\n",
       "      <td>1.0</td>\n",
       "      <td>0.0</td>\n",
       "      <td>1.0</td>\n",
       "      <td>0.653846</td>\n",
       "      <td>0.272727</td>\n",
       "      <td>0.578947</td>\n",
       "      <td>2.0</td>\n",
       "    </tr>\n",
       "    <tr>\n",
       "      <th>5</th>\n",
       "      <td>3.0</td>\n",
       "      <td>23.0</td>\n",
       "      <td>7.0</td>\n",
       "      <td>6.0</td>\n",
       "      <td>1.0</td>\n",
       "      <td>0.225926</td>\n",
       "      <td>0.978723</td>\n",
       "      <td>0.607143</td>\n",
       "      <td>0.354839</td>\n",
       "      <td>0.194471</td>\n",
       "      <td>0.842105</td>\n",
       "      <td>0.0</td>\n",
       "      <td>1.0</td>\n",
       "      <td>0.0</td>\n",
       "      <td>1.0</td>\n",
       "      <td>0.0</td>\n",
       "      <td>0.0</td>\n",
       "      <td>0.634615</td>\n",
       "      <td>0.212121</td>\n",
       "      <td>0.631579</td>\n",
       "      <td>3.0</td>\n",
       "    </tr>\n",
       "    <tr>\n",
       "      <th>6</th>\n",
       "      <td>10.0</td>\n",
       "      <td>22.0</td>\n",
       "      <td>7.0</td>\n",
       "      <td>6.0</td>\n",
       "      <td>1.0</td>\n",
       "      <td>0.496296</td>\n",
       "      <td>1.000000</td>\n",
       "      <td>0.071429</td>\n",
       "      <td>0.032258</td>\n",
       "      <td>0.194471</td>\n",
       "      <td>0.842105</td>\n",
       "      <td>0.0</td>\n",
       "      <td>1.0</td>\n",
       "      <td>1.0</td>\n",
       "      <td>1.0</td>\n",
       "      <td>0.0</td>\n",
       "      <td>4.0</td>\n",
       "      <td>0.461538</td>\n",
       "      <td>0.272727</td>\n",
       "      <td>0.421053</td>\n",
       "      <td>8.0</td>\n",
       "    </tr>\n",
       "  </tbody>\n",
       "</table>\n",
       "</div>"
      ],
      "text/plain": [
       "     ID  Reason for absence  Month of absence  Day of the week  Seasons  \\\n",
       "0  11.0                26.0               7.0              3.0      1.0   \n",
       "1  36.0                 0.0               7.0              3.0      1.0   \n",
       "2   3.0                23.0               7.0              4.0      1.0   \n",
       "3   7.0                 7.0               7.0              5.0      1.0   \n",
       "4  11.0                23.0               7.0              5.0      1.0   \n",
       "5   3.0                23.0               7.0              6.0      1.0   \n",
       "6  10.0                22.0               7.0              6.0      1.0   \n",
       "\n",
       "   Transportation expense  Distance from Residence to Work  Service time  \\\n",
       "0                0.633333                         0.659574      0.428571   \n",
       "1                0.000000                         0.170213      0.607143   \n",
       "2                0.225926                         0.978723      0.607143   \n",
       "3                0.596296                         0.000000      0.464286   \n",
       "4                0.633333                         0.659574      0.428571   \n",
       "5                0.225926                         0.978723      0.607143   \n",
       "6                0.496296                         1.000000      0.071429   \n",
       "\n",
       "        Age  Work load Average/day   Hit target  Disciplinary failure  \\\n",
       "0  0.193548                0.194471    0.842105                   0.0   \n",
       "1  0.741935                0.194471    0.842105                   1.0   \n",
       "2  0.354839                0.194471    0.842105                   0.0   \n",
       "3  0.387097                0.194471    0.842105                   0.0   \n",
       "4  0.193548                0.194471    0.842105                   0.0   \n",
       "5  0.354839                0.194471    0.842105                   0.0   \n",
       "6  0.032258                0.194471    0.842105                   0.0   \n",
       "\n",
       "   Education  Son  Social drinker  Social smoker  Pet    Weight    Height  \\\n",
       "0        1.0  2.0             1.0            0.0  1.0  0.653846  0.272727   \n",
       "1        1.0  1.0             1.0            0.0  0.0  0.807692  0.454545   \n",
       "2        1.0  0.0             1.0            0.0  0.0  0.634615  0.212121   \n",
       "3        1.0  2.0             1.0            1.0  0.0  0.230769  0.151515   \n",
       "4        1.0  2.0             1.0            0.0  1.0  0.653846  0.272727   \n",
       "5        1.0  0.0             1.0            0.0  0.0  0.634615  0.212121   \n",
       "6        1.0  1.0             1.0            0.0  4.0  0.461538  0.272727   \n",
       "\n",
       "   Body mass index  Absenteeism time in hours  \n",
       "0         0.578947                        4.0  \n",
       "1         0.631579                        0.0  \n",
       "2         0.631579                        2.0  \n",
       "3         0.263158                        4.0  \n",
       "4         0.578947                        2.0  \n",
       "5         0.631579                        3.0  \n",
       "6         0.421053                        8.0  "
      ]
     },
     "execution_count": 416,
     "metadata": {},
     "output_type": "execute_result"
    }
   ],
   "source": [
    "for c in num:\n",
    "    df2[c] = (df2[c]-min(df2[c]))/(max(df2[c])-min(df2[c]))\n",
    "    \n",
    "df2.head(7)  "
   ]
  },
  {
   "cell_type": "markdown",
   "metadata": {},
   "source": [
    "### Feature Selection"
   ]
  },
  {
   "cell_type": "markdown",
   "metadata": {},
   "source": [
    "### Correlation Heatmap"
   ]
  },
  {
   "cell_type": "code",
   "execution_count": 401,
   "metadata": {},
   "outputs": [
    {
     "data": {
      "image/png": "[encoded data removed]",
      "text/plain": [
       "<Figure size 1440x1440 with 2 Axes>"
      ]
     },
     "metadata": {
      "needs_background": "light"
     },
     "output_type": "display_data"
    }
   ],
   "source": [
    "corr = df2[num+['Absenteeism time in hours']].corr()\n",
    "f, ax = plt.subplots(figsize=(20, 20))\n",
    "sns.heatmap(corr, mask=np.zeros_like(corr, dtype=np.bool), \n",
    "            cmap=sns.diverging_palette(220, 50, as_cmap=True),\n",
    "            square=True, ax=ax,annot = True)\n",
    "plt.show()"
   ]
  },
  {
   "cell_type": "markdown",
   "metadata": {},
   "source": [
    "Very suprising to see, none of the continuous numeric variables show any correlation to the target. <br>\n",
    "This also tells us that it might be difficult to get good regression metrics out of the models we apply to predict the target as none of the continuous variable correlate in a strong manner to the target.<br>\n",
    "And the categorical variables don't come close enough for the predicting regression variables.<br>\n",
    "We need to consider to change the problem to classification(binary OR multiclass) <br>"
   ]
  },
  {
   "cell_type": "markdown",
   "metadata": {},
   "source": [
    "### ANOVA test"
   ]
  },
  {
   "cell_type": "code",
   "execution_count": 402,
   "metadata": {},
   "outputs": [
    {
     "name": "stdout",
     "output_type": "stream",
     "text": [
      "related:  ['ID', 'Reason for absence', 'Day of the week', 'Seasons', 'Disciplinary failure', 'Education', 'Son', 'Social drinker', 'Social smoker', 'Pet']\n",
      "unrelated:  ['Month of absence']\n"
     ]
    }
   ],
   "source": [
    "from scipy import stats\n",
    "\n",
    "ANOVA_related= []\n",
    "ANOVA_unrelated= []\n",
    "\n",
    "for col in cat:\n",
    "    fStat, pVal = stats.f_oneway(df2[col], df2['Absenteeism time in hours'])\n",
    "    #print(col,' P-value: ',pVal,' f-statistic: ',fStat)\n",
    "    if pVal<0.05:\n",
    "        ANOVA_related.append(col)\n",
    "    else:\n",
    "        ANOVA_unrelated.append(col)\n",
    "        \n",
    "print('related: ', ANOVA_related)\n",
    "print('unrelated: ', ANOVA_unrelated)"
   ]
  },
  {
   "cell_type": "markdown",
   "metadata": {},
   "source": [
    "### ExtraTrees Regressor"
   ]
  },
  {
   "cell_type": "code",
   "execution_count": 403,
   "metadata": {},
   "outputs": [
    {
     "name": "stdout",
     "output_type": "stream",
     "text": [
      "[0.02641389 0.18163914 0.10621262 0.14495476 0.06741478 0.02722444\n",
      " 0.0390306  0.01481338 0.05433696 0.08449469 0.068366   0.02333383\n",
      " 0.00734144 0.03100542 0.01990143 0.01746319 0.01902856 0.02095757\n",
      " 0.02078436 0.02528293]\n"
     ]
    },
    {
     "data": {
      "image/png": "[encoded data removed]",
      "text/plain": [
       "<Figure size 432x288 with 1 Axes>"
      ]
     },
     "metadata": {
      "needs_background": "light"
     },
     "output_type": "display_data"
    }
   ],
   "source": [
    "from matplotlib import pyplot as plt\n",
    "import seaborn as sns\n",
    "from sklearn.ensemble import ExtraTreesRegressor\n",
    "X = df2.iloc[:,:-1]\n",
    "y = df2['Absenteeism time in hours']\n",
    "importances = ExtraTreesRegressor().fit(X,y)\n",
    "print (importances.feature_importances_)\n",
    "\n",
    "# Let's look at the scores visually\n",
    "\n",
    "values = pd.Series(importances.feature_importances_, index = X.columns)\n",
    "values.nlargest(X.shape[1]).plot(kind='bar')\n",
    "plt.figsize=(10,15)\n",
    "plt.show()"
   ]
  },
  {
   "cell_type": "markdown",
   "metadata": {},
   "source": [
    "In the Extra trees regressor test, except the first 8, all the other variables don't show that strong feature importance, <br>\n",
    "we'll make a list of these not so important features."
   ]
  },
  {
   "cell_type": "code",
   "execution_count": 404,
   "metadata": {},
   "outputs": [
    {
     "data": {
      "text/plain": [
       "['Education',\n",
       " 'Service time',\n",
       " 'Social smoker',\n",
       " 'Pet',\n",
       " 'Social drinker',\n",
       " 'Height',\n",
       " 'Weight',\n",
       " 'Disciplinary failure',\n",
       " 'Body mass index',\n",
       " 'ID',\n",
       " 'Transportation expense',\n",
       " 'Son']"
      ]
     },
     "execution_count": 404,
     "metadata": {},
     "output_type": "execute_result"
    }
   ],
   "source": [
    "ET_unimportant = list(values.nsmallest(X.shape[1]-8).index)\n",
    "ET_unimportant"
   ]
  },
  {
   "cell_type": "markdown",
   "metadata": {},
   "source": [
    "### Linear Regression Feature importance"
   ]
  },
  {
   "cell_type": "code",
   "execution_count": 405,
   "metadata": {},
   "outputs": [
    {
     "name": "stdout",
     "output_type": "stream",
     "text": [
      "[False False False False False False  True  True  True False False  True\n",
      " False False False False False  True  True  True]\n",
      "important:  ['Distance from Residence to Work', 'Service time', 'Age', 'Disciplinary failure', 'Weight', 'Height', 'Body mass index']\n",
      "unimportant:  ['ID', 'Reason for absence', 'Month of absence', 'Day of the week', 'Seasons', 'Transportation expense', 'Work load Average/day ', 'Hit target', 'Education', 'Son', 'Social drinker', 'Social smoker', 'Pet']\n"
     ]
    }
   ],
   "source": [
    "from sklearn.linear_model import Lasso, LinearRegression\n",
    "sel_ = SelectFromModel(LinearRegression())\n",
    "\n",
    "sel_.fit(X,y)\n",
    "#sel_.fit(df[numeric], df['Class'])\n",
    "\n",
    "# Visualising features that were kept by the lasso regularisation\n",
    "print (sel_.get_support())\n",
    "\n",
    "#  So True is for the features that lasso thought is important (non-zero features) \n",
    "# while False is for the features whose weights were shrinked to zero and are not important according to Lasso.\n",
    "\n",
    "\n",
    "LR_important = list(X.columns[(sel_.get_support())]) # gives the remaining features\n",
    "LR_unimportant = [i for i in X.columns if i not in LR_important]\n",
    "print ('important: ',LR_important)\n",
    "print ('unimportant: ',LR_unimportant)"
   ]
  },
  {
   "cell_type": "markdown",
   "metadata": {},
   "source": [
    "### L1 regularization - Lasso regression feature importance"
   ]
  },
  {
   "cell_type": "code",
   "execution_count": 424,
   "metadata": {},
   "outputs": [
    {
     "name": "stdout",
     "output_type": "stream",
     "text": [
      "[ True  True  True  True False False  True False False False False  True\n",
      "  True  True False False  True False False False]\n",
      "important:  ['ID', 'Reason for absence', 'Month of absence', 'Day of the week', 'Distance from Residence to Work', 'Disciplinary failure', 'Education', 'Son', 'Pet']\n",
      "unimportant:  ['Seasons', 'Transportation expense', 'Service time', 'Age', 'Work load Average/day ', 'Hit target', 'Social drinker', 'Social smoker', 'Weight', 'Height', 'Body mass index']\n"
     ]
    }
   ],
   "source": [
    "from sklearn.linear_model import Lasso, LinearRegression \n",
    "from sklearn.feature_selection import SelectFromModel\n",
    "\n",
    "\n",
    "sel_ = SelectFromModel(Lasso(alpha=0.3))\n",
    "\n",
    "sel_.fit(X,y)\n",
    "#sel_.fit(df[numeric], df['Class'])\n",
    "\n",
    "# Visualising features that were kept by the lasso regularisation\n",
    "print (sel_.get_support())\n",
    "\n",
    "#  So True is for the features that lasso thought is important (non-zero features) \n",
    "# while False is for the features whose weights were shrinked to zero and are not important according to Lasso.\n",
    "\n",
    "\n",
    "L1_important = list(X.columns[(sel_.get_support())]) # gives the remaining features\n",
    "L1_unimportant = [i for i in X.columns if i not in L1_important]\n",
    "print ('important: ',L1_important)\n",
    "print ('unimportant: ',L1_unimportant)"
   ]
  },
  {
   "cell_type": "markdown",
   "metadata": {},
   "source": [
    "### L2 - Ridge regression feature importance"
   ]
  },
  {
   "cell_type": "code",
   "execution_count": 425,
   "metadata": {},
   "outputs": [
    {
     "name": "stdout",
     "output_type": "stream",
     "text": [
      "important features:  ['Distance from Residence to Work', 'Service time', 'Age', 'Disciplinary failure', 'Weight', 'Body mass index']\n",
      "unimportant:  ['ID', 'Reason for absence', 'Month of absence', 'Day of the week', 'Seasons', 'Transportation expense', 'Work load Average/day ', 'Hit target', 'Education', 'Son', 'Social drinker', 'Social smoker', 'Pet', 'Height']\n"
     ]
    }
   ],
   "source": [
    "from sklearn.feature_selection import SelectFromModel\n",
    "from sklearn.linear_model import Ridge\n",
    "sel_ = SelectFromModel(Ridge(alpha=0.3))\n",
    "sel_.fit(X,y)\n",
    "\n",
    "L2_important = list(X.columns[sel_.get_support()])\n",
    "L2_unimportant = [i for i in X.columns if i not in L2_important]\n",
    "print ('important features: ',L2_important)\n",
    "print ('unimportant: ',L2_unimportant)"
   ]
  },
  {
   "cell_type": "markdown",
   "metadata": {},
   "source": [
    "### Random Forest Regressor"
   ]
  },
  {
   "cell_type": "code",
   "execution_count": 408,
   "metadata": {},
   "outputs": [
    {
     "name": "stdout",
     "output_type": "stream",
     "text": [
      "important features:  Index(['Reason for absence', 'Month of absence', 'Day of the week',\n",
      "       'Distance from Residence to Work', 'Age', 'Work load Average/day ',\n",
      "       'Hit target'],\n",
      "      dtype='object')\n",
      "unimportant:  ['ID', 'Seasons', 'Transportation expense', 'Service time', 'Disciplinary failure', 'Education', 'Son', 'Social drinker', 'Social smoker', 'Pet', 'Weight', 'Height', 'Body mass index']\n"
     ]
    }
   ],
   "source": [
    "from sklearn.ensemble import RandomForestRegressor\n",
    "sel_ = SelectFromModel(RandomForestRegressor())\n",
    "sel_.fit(X,y)\n",
    "\n",
    "RF_important = X.columns[sel_.get_support()]\n",
    "RF_unimportant = [i for i in X.columns if i not in RF_important]\n",
    "print ('important features: ',RF_important)\n",
    "print ('unimportant: ',RF_unimportant)"
   ]
  },
  {
   "cell_type": "markdown",
   "metadata": {},
   "source": [
    "Let's compare the unimportant variables in the 5 tests and select only the common in atleast 3 or 4 of them."
   ]
  },
  {
   "cell_type": "markdown",
   "metadata": {},
   "source": [
    "Because Lasso test has the least number of unimportant variables, we'll select it to compare for the common ones in others."
   ]
  },
  {
   "cell_type": "code",
   "execution_count": 409,
   "metadata": {},
   "outputs": [
    {
     "data": {
      "text/plain": [
       "Counter({'ID': 4,\n",
       "         'Reason for absence': 2,\n",
       "         'Month of absence': 3,\n",
       "         'Day of the week': 2,\n",
       "         'Seasons': 4,\n",
       "         'Transportation expense': 5,\n",
       "         'Work load Average/day ': 3,\n",
       "         'Hit target': 3,\n",
       "         'Education': 4,\n",
       "         'Son': 4,\n",
       "         'Social drinker': 5,\n",
       "         'Social smoker': 5,\n",
       "         'Pet': 4,\n",
       "         'Service time': 3,\n",
       "         'Height': 4,\n",
       "         'Weight': 3,\n",
       "         'Disciplinary failure': 2,\n",
       "         'Body mass index': 3,\n",
       "         'Age': 1})"
      ]
     },
     "execution_count": 409,
     "metadata": {},
     "output_type": "execute_result"
    }
   ],
   "source": [
    "from collections import Counter\n",
    "Counter(LR_unimportant + ET_unimportant + L1_unimportant + L2_unimportant + RF_unimportant+ANOVA_unrelated)"
   ]
  },
  {
   "cell_type": "markdown",
   "metadata": {},
   "source": [
    "So, below are the variables common atleast 4 times in the 5 unimportant features list and hence can be considered for removal."
   ]
  },
  {
   "cell_type": "code",
   "execution_count": 378,
   "metadata": {},
   "outputs": [],
   "source": [
    "removable = ['ID','Seasons','Hit target','Son','Education','Pet','Height',\n",
    "             'Transportation expense','Social drinker','Social smoker','Weight']"
   ]
  },
  {
   "cell_type": "code",
   "execution_count": 417,
   "metadata": {},
   "outputs": [
    {
     "data": {
      "text/plain": [
       "(740, 21)"
      ]
     },
     "execution_count": 417,
     "metadata": {},
     "output_type": "execute_result"
    }
   ],
   "source": [
    "df3 = df2.drop(removable,axis=1)\n",
    "df3 = df2.copy()\n",
    "new_cat = [i for i in cat if i in df3.columns]\n",
    "new_num = [i for i in num if i in df3.columns]\n",
    "df3.shape\n"
   ]
  },
  {
   "cell_type": "markdown",
   "metadata": {},
   "source": [
    "We need to One-Hot Encode the categorical variables with more than 2 classes. <br>\n",
    "Let's first check which variables have more than 2 classes."
   ]
  },
  {
   "cell_type": "code",
   "execution_count": 418,
   "metadata": {},
   "outputs": [
    {
     "name": "stdout",
     "output_type": "stream",
     "text": [
      "['ID', 'Reason for absence', 'Month of absence', 'Day of the week', 'Seasons', 'Education', 'Son', 'Pet']\n"
     ]
    }
   ],
   "source": [
    "multiclass = []\n",
    "for c in new_cat:\n",
    "    if len(df3[c].unique())>2:\n",
    "        multiclass.append(c)\n",
    "        \n",
    "print (multiclass)        "
   ]
  },
  {
   "cell_type": "markdown",
   "metadata": {},
   "source": [
    "### One-Hot Encoding."
   ]
  },
  {
   "cell_type": "code",
   "execution_count": 419,
   "metadata": {},
   "outputs": [
    {
     "name": "stdout",
     "output_type": "stream",
     "text": [
      "(740, 114)\n"
     ]
    },
    {
     "data": {
      "text/html": [
       "<div>\n",
       "<style scoped>\n",
       "    .dataframe tbody tr th:only-of-type {\n",
       "        vertical-align: middle;\n",
       "    }\n",
       "\n",
       "    .dataframe tbody tr th {\n",
       "        vertical-align: top;\n",
       "    }\n",
       "\n",
       "    .dataframe thead th {\n",
       "        text-align: right;\n",
       "    }\n",
       "</style>\n",
       "<table border=\"1\" class=\"dataframe\">\n",
       "  <thead>\n",
       "    <tr style=\"text-align: right;\">\n",
       "      <th></th>\n",
       "      <th>Transportation expense</th>\n",
       "      <th>Distance from Residence to Work</th>\n",
       "      <th>Service time</th>\n",
       "      <th>Age</th>\n",
       "      <th>Work load Average/day</th>\n",
       "      <th>Hit target</th>\n",
       "      <th>Disciplinary failure</th>\n",
       "      <th>Social drinker</th>\n",
       "      <th>Social smoker</th>\n",
       "      <th>Weight</th>\n",
       "      <th>Height</th>\n",
       "      <th>Body mass index</th>\n",
       "      <th>ID_1.0</th>\n",
       "      <th>ID_2.0</th>\n",
       "      <th>ID_3.0</th>\n",
       "      <th>ID_4.0</th>\n",
       "      <th>ID_5.0</th>\n",
       "      <th>ID_6.0</th>\n",
       "      <th>ID_7.0</th>\n",
       "      <th>ID_8.0</th>\n",
       "      <th>ID_9.0</th>\n",
       "      <th>ID_10.0</th>\n",
       "      <th>ID_11.0</th>\n",
       "      <th>ID_12.0</th>\n",
       "      <th>ID_13.0</th>\n",
       "      <th>ID_14.0</th>\n",
       "      <th>ID_15.0</th>\n",
       "      <th>ID_16.0</th>\n",
       "      <th>ID_17.0</th>\n",
       "      <th>ID_18.0</th>\n",
       "      <th>ID_19.0</th>\n",
       "      <th>ID_20.0</th>\n",
       "      <th>ID_21.0</th>\n",
       "      <th>ID_22.0</th>\n",
       "      <th>ID_23.0</th>\n",
       "      <th>ID_24.0</th>\n",
       "      <th>ID_25.0</th>\n",
       "      <th>ID_26.0</th>\n",
       "      <th>ID_27.0</th>\n",
       "      <th>ID_28.0</th>\n",
       "      <th>ID_29.0</th>\n",
       "      <th>ID_30.0</th>\n",
       "      <th>ID_31.0</th>\n",
       "      <th>ID_32.0</th>\n",
       "      <th>ID_33.0</th>\n",
       "      <th>ID_34.0</th>\n",
       "      <th>ID_35.0</th>\n",
       "      <th>ID_36.0</th>\n",
       "      <th>Reason for absence_0.0</th>\n",
       "      <th>Reason for absence_1.0</th>\n",
       "      <th>Reason for absence_2.0</th>\n",
       "      <th>Reason for absence_3.0</th>\n",
       "      <th>Reason for absence_4.0</th>\n",
       "      <th>Reason for absence_5.0</th>\n",
       "      <th>Reason for absence_6.0</th>\n",
       "      <th>Reason for absence_7.0</th>\n",
       "      <th>Reason for absence_8.0</th>\n",
       "      <th>Reason for absence_9.0</th>\n",
       "      <th>Reason for absence_10.0</th>\n",
       "      <th>Reason for absence_11.0</th>\n",
       "      <th>Reason for absence_12.0</th>\n",
       "      <th>Reason for absence_13.0</th>\n",
       "      <th>Reason for absence_14.0</th>\n",
       "      <th>Reason for absence_15.0</th>\n",
       "      <th>Reason for absence_16.0</th>\n",
       "      <th>Reason for absence_17.0</th>\n",
       "      <th>Reason for absence_18.0</th>\n",
       "      <th>Reason for absence_19.0</th>\n",
       "      <th>Reason for absence_21.0</th>\n",
       "      <th>Reason for absence_22.0</th>\n",
       "      <th>Reason for absence_23.0</th>\n",
       "      <th>Reason for absence_24.0</th>\n",
       "      <th>Reason for absence_25.0</th>\n",
       "      <th>Reason for absence_26.0</th>\n",
       "      <th>Reason for absence_27.0</th>\n",
       "      <th>Reason for absence_28.0</th>\n",
       "      <th>Month of absence_0.0</th>\n",
       "      <th>Month of absence_1.0</th>\n",
       "      <th>Month of absence_2.0</th>\n",
       "      <th>Month of absence_3.0</th>\n",
       "      <th>Month of absence_4.0</th>\n",
       "      <th>Month of absence_5.0</th>\n",
       "      <th>Month of absence_6.0</th>\n",
       "      <th>Month of absence_7.0</th>\n",
       "      <th>Month of absence_8.0</th>\n",
       "      <th>Month of absence_9.0</th>\n",
       "      <th>Month of absence_10.0</th>\n",
       "      <th>Month of absence_11.0</th>\n",
       "      <th>Month of absence_12.0</th>\n",
       "      <th>Day of the week_2.0</th>\n",
       "      <th>Day of the week_3.0</th>\n",
       "      <th>Day of the week_4.0</th>\n",
       "      <th>Day of the week_5.0</th>\n",
       "      <th>Day of the week_6.0</th>\n",
       "      <th>Seasons_1.0</th>\n",
       "      <th>Seasons_2.0</th>\n",
       "      <th>Seasons_3.0</th>\n",
       "      <th>Seasons_4.0</th>\n",
       "      <th>Education_1.0</th>\n",
       "      <th>Education_2.0</th>\n",
       "      <th>Education_3.0</th>\n",
       "      <th>Education_4.0</th>\n",
       "      <th>Son_0.0</th>\n",
       "      <th>Son_1.0</th>\n",
       "      <th>Son_2.0</th>\n",
       "      <th>Son_3.0</th>\n",
       "      <th>Son_4.0</th>\n",
       "      <th>Pet_0.0</th>\n",
       "      <th>Pet_1.0</th>\n",
       "      <th>Pet_2.0</th>\n",
       "      <th>Pet_4.0</th>\n",
       "      <th>Pet_5.0</th>\n",
       "      <th>Pet_8.0</th>\n",
       "      <th>Absenteeism time in hours</th>\n",
       "    </tr>\n",
       "  </thead>\n",
       "  <tbody>\n",
       "    <tr>\n",
       "      <th>267</th>\n",
       "      <td>0.433333</td>\n",
       "      <td>0.127660</td>\n",
       "      <td>0.464286</td>\n",
       "      <td>0.322581</td>\n",
       "      <td>0.345141</td>\n",
       "      <td>0.684211</td>\n",
       "      <td>0.0</td>\n",
       "      <td>0.0</td>\n",
       "      <td>0.0</td>\n",
       "      <td>0.615385</td>\n",
       "      <td>0.272727</td>\n",
       "      <td>0.526316</td>\n",
       "      <td>1</td>\n",
       "      <td>0</td>\n",
       "      <td>0</td>\n",
       "      <td>0</td>\n",
       "      <td>0</td>\n",
       "      <td>0</td>\n",
       "      <td>0</td>\n",
       "      <td>0</td>\n",
       "      <td>0</td>\n",
       "      <td>0</td>\n",
       "      <td>0</td>\n",
       "      <td>0</td>\n",
       "      <td>0</td>\n",
       "      <td>0</td>\n",
       "      <td>0</td>\n",
       "      <td>0</td>\n",
       "      <td>0</td>\n",
       "      <td>0</td>\n",
       "      <td>0</td>\n",
       "      <td>0</td>\n",
       "      <td>0</td>\n",
       "      <td>0</td>\n",
       "      <td>0</td>\n",
       "      <td>0</td>\n",
       "      <td>0</td>\n",
       "      <td>0</td>\n",
       "      <td>0</td>\n",
       "      <td>0</td>\n",
       "      <td>0</td>\n",
       "      <td>0</td>\n",
       "      <td>0</td>\n",
       "      <td>0</td>\n",
       "      <td>0</td>\n",
       "      <td>0</td>\n",
       "      <td>0</td>\n",
       "      <td>0</td>\n",
       "      <td>0</td>\n",
       "      <td>0</td>\n",
       "      <td>0</td>\n",
       "      <td>0</td>\n",
       "      <td>0</td>\n",
       "      <td>0</td>\n",
       "      <td>0</td>\n",
       "      <td>0</td>\n",
       "      <td>0</td>\n",
       "      <td>0</td>\n",
       "      <td>0</td>\n",
       "      <td>0</td>\n",
       "      <td>0</td>\n",
       "      <td>0</td>\n",
       "      <td>0</td>\n",
       "      <td>0</td>\n",
       "      <td>0</td>\n",
       "      <td>0</td>\n",
       "      <td>0</td>\n",
       "      <td>1</td>\n",
       "      <td>0</td>\n",
       "      <td>0</td>\n",
       "      <td>0</td>\n",
       "      <td>0</td>\n",
       "      <td>0</td>\n",
       "      <td>0</td>\n",
       "      <td>0</td>\n",
       "      <td>0</td>\n",
       "      <td>0</td>\n",
       "      <td>0</td>\n",
       "      <td>0</td>\n",
       "      <td>0</td>\n",
       "      <td>0</td>\n",
       "      <td>0</td>\n",
       "      <td>0</td>\n",
       "      <td>0</td>\n",
       "      <td>1</td>\n",
       "      <td>0</td>\n",
       "      <td>0</td>\n",
       "      <td>0</td>\n",
       "      <td>0</td>\n",
       "      <td>0</td>\n",
       "      <td>0</td>\n",
       "      <td>0</td>\n",
       "      <td>1</td>\n",
       "      <td>0</td>\n",
       "      <td>1</td>\n",
       "      <td>0</td>\n",
       "      <td>0</td>\n",
       "      <td>0</td>\n",
       "      <td>0</td>\n",
       "      <td>0</td>\n",
       "      <td>1</td>\n",
       "      <td>0</td>\n",
       "      <td>0</td>\n",
       "      <td>1</td>\n",
       "      <td>0</td>\n",
       "      <td>0</td>\n",
       "      <td>0</td>\n",
       "      <td>0</td>\n",
       "      <td>1</td>\n",
       "      <td>0</td>\n",
       "      <td>0</td>\n",
       "      <td>0</td>\n",
       "      <td>0</td>\n",
       "      <td>8.0</td>\n",
       "    </tr>\n",
       "    <tr>\n",
       "      <th>635</th>\n",
       "      <td>0.481481</td>\n",
       "      <td>0.425532</td>\n",
       "      <td>0.464286</td>\n",
       "      <td>0.645161</td>\n",
       "      <td>0.094116</td>\n",
       "      <td>0.947368</td>\n",
       "      <td>0.0</td>\n",
       "      <td>0.0</td>\n",
       "      <td>0.0</td>\n",
       "      <td>0.576923</td>\n",
       "      <td>0.060606</td>\n",
       "      <td>0.684211</td>\n",
       "      <td>0</td>\n",
       "      <td>0</td>\n",
       "      <td>0</td>\n",
       "      <td>0</td>\n",
       "      <td>0</td>\n",
       "      <td>0</td>\n",
       "      <td>0</td>\n",
       "      <td>0</td>\n",
       "      <td>0</td>\n",
       "      <td>0</td>\n",
       "      <td>0</td>\n",
       "      <td>0</td>\n",
       "      <td>0</td>\n",
       "      <td>0</td>\n",
       "      <td>0</td>\n",
       "      <td>0</td>\n",
       "      <td>0</td>\n",
       "      <td>0</td>\n",
       "      <td>0</td>\n",
       "      <td>0</td>\n",
       "      <td>0</td>\n",
       "      <td>0</td>\n",
       "      <td>0</td>\n",
       "      <td>0</td>\n",
       "      <td>0</td>\n",
       "      <td>0</td>\n",
       "      <td>0</td>\n",
       "      <td>0</td>\n",
       "      <td>0</td>\n",
       "      <td>0</td>\n",
       "      <td>0</td>\n",
       "      <td>0</td>\n",
       "      <td>1</td>\n",
       "      <td>0</td>\n",
       "      <td>0</td>\n",
       "      <td>0</td>\n",
       "      <td>0</td>\n",
       "      <td>0</td>\n",
       "      <td>0</td>\n",
       "      <td>0</td>\n",
       "      <td>0</td>\n",
       "      <td>0</td>\n",
       "      <td>0</td>\n",
       "      <td>0</td>\n",
       "      <td>0</td>\n",
       "      <td>0</td>\n",
       "      <td>0</td>\n",
       "      <td>0</td>\n",
       "      <td>0</td>\n",
       "      <td>1</td>\n",
       "      <td>0</td>\n",
       "      <td>0</td>\n",
       "      <td>0</td>\n",
       "      <td>0</td>\n",
       "      <td>0</td>\n",
       "      <td>0</td>\n",
       "      <td>0</td>\n",
       "      <td>0</td>\n",
       "      <td>0</td>\n",
       "      <td>0</td>\n",
       "      <td>0</td>\n",
       "      <td>0</td>\n",
       "      <td>0</td>\n",
       "      <td>0</td>\n",
       "      <td>0</td>\n",
       "      <td>0</td>\n",
       "      <td>0</td>\n",
       "      <td>1</td>\n",
       "      <td>0</td>\n",
       "      <td>0</td>\n",
       "      <td>0</td>\n",
       "      <td>0</td>\n",
       "      <td>0</td>\n",
       "      <td>0</td>\n",
       "      <td>0</td>\n",
       "      <td>0</td>\n",
       "      <td>0</td>\n",
       "      <td>1</td>\n",
       "      <td>0</td>\n",
       "      <td>0</td>\n",
       "      <td>0</td>\n",
       "      <td>0</td>\n",
       "      <td>0</td>\n",
       "      <td>1</td>\n",
       "      <td>0</td>\n",
       "      <td>0</td>\n",
       "      <td>1</td>\n",
       "      <td>0</td>\n",
       "      <td>0</td>\n",
       "      <td>0</td>\n",
       "      <td>0</td>\n",
       "      <td>0</td>\n",
       "      <td>1</td>\n",
       "      <td>0</td>\n",
       "      <td>0</td>\n",
       "      <td>0</td>\n",
       "      <td>1</td>\n",
       "      <td>0</td>\n",
       "      <td>0</td>\n",
       "      <td>0</td>\n",
       "      <td>0</td>\n",
       "      <td>2.0</td>\n",
       "    </tr>\n",
       "    <tr>\n",
       "      <th>56</th>\n",
       "      <td>0.396296</td>\n",
       "      <td>0.446809</td>\n",
       "      <td>0.285714</td>\n",
       "      <td>0.032258</td>\n",
       "      <td>0.205583</td>\n",
       "      <td>0.578947</td>\n",
       "      <td>0.0</td>\n",
       "      <td>0.0</td>\n",
       "      <td>0.0</td>\n",
       "      <td>0.250000</td>\n",
       "      <td>0.181818</td>\n",
       "      <td>0.368421</td>\n",
       "      <td>0</td>\n",
       "      <td>0</td>\n",
       "      <td>0</td>\n",
       "      <td>0</td>\n",
       "      <td>0</td>\n",
       "      <td>0</td>\n",
       "      <td>0</td>\n",
       "      <td>0</td>\n",
       "      <td>0</td>\n",
       "      <td>0</td>\n",
       "      <td>0</td>\n",
       "      <td>0</td>\n",
       "      <td>0</td>\n",
       "      <td>0</td>\n",
       "      <td>0</td>\n",
       "      <td>0</td>\n",
       "      <td>0</td>\n",
       "      <td>0</td>\n",
       "      <td>0</td>\n",
       "      <td>0</td>\n",
       "      <td>0</td>\n",
       "      <td>0</td>\n",
       "      <td>0</td>\n",
       "      <td>0</td>\n",
       "      <td>0</td>\n",
       "      <td>0</td>\n",
       "      <td>0</td>\n",
       "      <td>1</td>\n",
       "      <td>0</td>\n",
       "      <td>0</td>\n",
       "      <td>0</td>\n",
       "      <td>0</td>\n",
       "      <td>0</td>\n",
       "      <td>0</td>\n",
       "      <td>0</td>\n",
       "      <td>0</td>\n",
       "      <td>0</td>\n",
       "      <td>0</td>\n",
       "      <td>0</td>\n",
       "      <td>0</td>\n",
       "      <td>0</td>\n",
       "      <td>0</td>\n",
       "      <td>0</td>\n",
       "      <td>0</td>\n",
       "      <td>0</td>\n",
       "      <td>0</td>\n",
       "      <td>0</td>\n",
       "      <td>0</td>\n",
       "      <td>0</td>\n",
       "      <td>0</td>\n",
       "      <td>0</td>\n",
       "      <td>0</td>\n",
       "      <td>0</td>\n",
       "      <td>0</td>\n",
       "      <td>1</td>\n",
       "      <td>0</td>\n",
       "      <td>0</td>\n",
       "      <td>0</td>\n",
       "      <td>0</td>\n",
       "      <td>0</td>\n",
       "      <td>0</td>\n",
       "      <td>0</td>\n",
       "      <td>0</td>\n",
       "      <td>0</td>\n",
       "      <td>0</td>\n",
       "      <td>0</td>\n",
       "      <td>0</td>\n",
       "      <td>0</td>\n",
       "      <td>0</td>\n",
       "      <td>0</td>\n",
       "      <td>0</td>\n",
       "      <td>0</td>\n",
       "      <td>0</td>\n",
       "      <td>1</td>\n",
       "      <td>0</td>\n",
       "      <td>0</td>\n",
       "      <td>0</td>\n",
       "      <td>0</td>\n",
       "      <td>0</td>\n",
       "      <td>1</td>\n",
       "      <td>0</td>\n",
       "      <td>0</td>\n",
       "      <td>0</td>\n",
       "      <td>0</td>\n",
       "      <td>0</td>\n",
       "      <td>1</td>\n",
       "      <td>1</td>\n",
       "      <td>0</td>\n",
       "      <td>0</td>\n",
       "      <td>0</td>\n",
       "      <td>0</td>\n",
       "      <td>1</td>\n",
       "      <td>0</td>\n",
       "      <td>0</td>\n",
       "      <td>0</td>\n",
       "      <td>0</td>\n",
       "      <td>0</td>\n",
       "      <td>1</td>\n",
       "      <td>0</td>\n",
       "      <td>0</td>\n",
       "      <td>0</td>\n",
       "      <td>3.0</td>\n",
       "    </tr>\n",
       "    <tr>\n",
       "      <th>140</th>\n",
       "      <td>0.137037</td>\n",
       "      <td>0.148936</td>\n",
       "      <td>0.464286</td>\n",
       "      <td>0.225806</td>\n",
       "      <td>0.558881</td>\n",
       "      <td>0.947368</td>\n",
       "      <td>0.0</td>\n",
       "      <td>1.0</td>\n",
       "      <td>0.0</td>\n",
       "      <td>0.750000</td>\n",
       "      <td>1.000000</td>\n",
       "      <td>0.315789</td>\n",
       "      <td>0</td>\n",
       "      <td>0</td>\n",
       "      <td>0</td>\n",
       "      <td>0</td>\n",
       "      <td>0</td>\n",
       "      <td>0</td>\n",
       "      <td>0</td>\n",
       "      <td>0</td>\n",
       "      <td>0</td>\n",
       "      <td>0</td>\n",
       "      <td>0</td>\n",
       "      <td>0</td>\n",
       "      <td>0</td>\n",
       "      <td>1</td>\n",
       "      <td>0</td>\n",
       "      <td>0</td>\n",
       "      <td>0</td>\n",
       "      <td>0</td>\n",
       "      <td>0</td>\n",
       "      <td>0</td>\n",
       "      <td>0</td>\n",
       "      <td>0</td>\n",
       "      <td>0</td>\n",
       "      <td>0</td>\n",
       "      <td>0</td>\n",
       "      <td>0</td>\n",
       "      <td>0</td>\n",
       "      <td>0</td>\n",
       "      <td>0</td>\n",
       "      <td>0</td>\n",
       "      <td>0</td>\n",
       "      <td>0</td>\n",
       "      <td>0</td>\n",
       "      <td>0</td>\n",
       "      <td>0</td>\n",
       "      <td>0</td>\n",
       "      <td>0</td>\n",
       "      <td>0</td>\n",
       "      <td>0</td>\n",
       "      <td>0</td>\n",
       "      <td>0</td>\n",
       "      <td>0</td>\n",
       "      <td>0</td>\n",
       "      <td>0</td>\n",
       "      <td>0</td>\n",
       "      <td>0</td>\n",
       "      <td>0</td>\n",
       "      <td>0</td>\n",
       "      <td>0</td>\n",
       "      <td>0</td>\n",
       "      <td>0</td>\n",
       "      <td>0</td>\n",
       "      <td>0</td>\n",
       "      <td>0</td>\n",
       "      <td>0</td>\n",
       "      <td>0</td>\n",
       "      <td>0</td>\n",
       "      <td>0</td>\n",
       "      <td>0</td>\n",
       "      <td>0</td>\n",
       "      <td>0</td>\n",
       "      <td>0</td>\n",
       "      <td>0</td>\n",
       "      <td>1</td>\n",
       "      <td>0</td>\n",
       "      <td>0</td>\n",
       "      <td>1</td>\n",
       "      <td>0</td>\n",
       "      <td>0</td>\n",
       "      <td>0</td>\n",
       "      <td>0</td>\n",
       "      <td>0</td>\n",
       "      <td>0</td>\n",
       "      <td>0</td>\n",
       "      <td>0</td>\n",
       "      <td>0</td>\n",
       "      <td>0</td>\n",
       "      <td>0</td>\n",
       "      <td>0</td>\n",
       "      <td>0</td>\n",
       "      <td>1</td>\n",
       "      <td>0</td>\n",
       "      <td>0</td>\n",
       "      <td>1</td>\n",
       "      <td>0</td>\n",
       "      <td>0</td>\n",
       "      <td>1</td>\n",
       "      <td>0</td>\n",
       "      <td>0</td>\n",
       "      <td>0</td>\n",
       "      <td>0</td>\n",
       "      <td>0</td>\n",
       "      <td>1</td>\n",
       "      <td>0</td>\n",
       "      <td>0</td>\n",
       "      <td>1</td>\n",
       "      <td>0</td>\n",
       "      <td>0</td>\n",
       "      <td>0</td>\n",
       "      <td>0</td>\n",
       "      <td>0</td>\n",
       "      <td>2.0</td>\n",
       "    </tr>\n",
       "    <tr>\n",
       "      <th>120</th>\n",
       "      <td>0.396296</td>\n",
       "      <td>0.446809</td>\n",
       "      <td>0.285714</td>\n",
       "      <td>0.032258</td>\n",
       "      <td>0.593616</td>\n",
       "      <td>0.736842</td>\n",
       "      <td>0.0</td>\n",
       "      <td>0.0</td>\n",
       "      <td>0.0</td>\n",
       "      <td>0.250000</td>\n",
       "      <td>0.181818</td>\n",
       "      <td>0.263158</td>\n",
       "      <td>0</td>\n",
       "      <td>0</td>\n",
       "      <td>0</td>\n",
       "      <td>0</td>\n",
       "      <td>0</td>\n",
       "      <td>0</td>\n",
       "      <td>0</td>\n",
       "      <td>0</td>\n",
       "      <td>0</td>\n",
       "      <td>0</td>\n",
       "      <td>0</td>\n",
       "      <td>0</td>\n",
       "      <td>0</td>\n",
       "      <td>0</td>\n",
       "      <td>0</td>\n",
       "      <td>0</td>\n",
       "      <td>0</td>\n",
       "      <td>0</td>\n",
       "      <td>0</td>\n",
       "      <td>0</td>\n",
       "      <td>0</td>\n",
       "      <td>0</td>\n",
       "      <td>0</td>\n",
       "      <td>0</td>\n",
       "      <td>0</td>\n",
       "      <td>0</td>\n",
       "      <td>0</td>\n",
       "      <td>1</td>\n",
       "      <td>0</td>\n",
       "      <td>0</td>\n",
       "      <td>0</td>\n",
       "      <td>0</td>\n",
       "      <td>0</td>\n",
       "      <td>0</td>\n",
       "      <td>0</td>\n",
       "      <td>0</td>\n",
       "      <td>0</td>\n",
       "      <td>0</td>\n",
       "      <td>0</td>\n",
       "      <td>0</td>\n",
       "      <td>0</td>\n",
       "      <td>0</td>\n",
       "      <td>0</td>\n",
       "      <td>0</td>\n",
       "      <td>0</td>\n",
       "      <td>0</td>\n",
       "      <td>0</td>\n",
       "      <td>0</td>\n",
       "      <td>0</td>\n",
       "      <td>0</td>\n",
       "      <td>0</td>\n",
       "      <td>0</td>\n",
       "      <td>0</td>\n",
       "      <td>0</td>\n",
       "      <td>0</td>\n",
       "      <td>0</td>\n",
       "      <td>0</td>\n",
       "      <td>0</td>\n",
       "      <td>0</td>\n",
       "      <td>0</td>\n",
       "      <td>0</td>\n",
       "      <td>0</td>\n",
       "      <td>1</td>\n",
       "      <td>0</td>\n",
       "      <td>0</td>\n",
       "      <td>1</td>\n",
       "      <td>0</td>\n",
       "      <td>0</td>\n",
       "      <td>0</td>\n",
       "      <td>0</td>\n",
       "      <td>0</td>\n",
       "      <td>0</td>\n",
       "      <td>0</td>\n",
       "      <td>0</td>\n",
       "      <td>0</td>\n",
       "      <td>0</td>\n",
       "      <td>0</td>\n",
       "      <td>0</td>\n",
       "      <td>0</td>\n",
       "      <td>0</td>\n",
       "      <td>0</td>\n",
       "      <td>1</td>\n",
       "      <td>0</td>\n",
       "      <td>1</td>\n",
       "      <td>0</td>\n",
       "      <td>0</td>\n",
       "      <td>1</td>\n",
       "      <td>0</td>\n",
       "      <td>0</td>\n",
       "      <td>0</td>\n",
       "      <td>0</td>\n",
       "      <td>1</td>\n",
       "      <td>0</td>\n",
       "      <td>0</td>\n",
       "      <td>0</td>\n",
       "      <td>0</td>\n",
       "      <td>0</td>\n",
       "      <td>1</td>\n",
       "      <td>0</td>\n",
       "      <td>0</td>\n",
       "      <td>0</td>\n",
       "      <td>1.0</td>\n",
       "    </tr>\n",
       "  </tbody>\n",
       "</table>\n",
       "</div>"
      ],
      "text/plain": [
       "     Transportation expense  Distance from Residence to Work  Service time  \\\n",
       "267                0.433333                         0.127660      0.464286   \n",
       "635                0.481481                         0.425532      0.464286   \n",
       "56                 0.396296                         0.446809      0.285714   \n",
       "140                0.137037                         0.148936      0.464286   \n",
       "120                0.396296                         0.446809      0.285714   \n",
       "\n",
       "          Age  Work load Average/day   Hit target  Disciplinary failure  \\\n",
       "267  0.322581                0.345141    0.684211                   0.0   \n",
       "635  0.645161                0.094116    0.947368                   0.0   \n",
       "56   0.032258                0.205583    0.578947                   0.0   \n",
       "140  0.225806                0.558881    0.947368                   0.0   \n",
       "120  0.032258                0.593616    0.736842                   0.0   \n",
       "\n",
       "     Social drinker  Social smoker    Weight    Height  Body mass index  \\\n",
       "267             0.0            0.0  0.615385  0.272727         0.526316   \n",
       "635             0.0            0.0  0.576923  0.060606         0.684211   \n",
       "56              0.0            0.0  0.250000  0.181818         0.368421   \n",
       "140             1.0            0.0  0.750000  1.000000         0.315789   \n",
       "120             0.0            0.0  0.250000  0.181818         0.263158   \n",
       "\n",
       "     ID_1.0  ID_2.0  ID_3.0  ID_4.0  ID_5.0  ID_6.0  ID_7.0  ID_8.0  ID_9.0  \\\n",
       "267       1       0       0       0       0       0       0       0       0   \n",
       "635       0       0       0       0       0       0       0       0       0   \n",
       "56        0       0       0       0       0       0       0       0       0   \n",
       "140       0       0       0       0       0       0       0       0       0   \n",
       "120       0       0       0       0       0       0       0       0       0   \n",
       "\n",
       "     ID_10.0  ID_11.0  ID_12.0  ID_13.0  ID_14.0  ID_15.0  ID_16.0  ID_17.0  \\\n",
       "267        0        0        0        0        0        0        0        0   \n",
       "635        0        0        0        0        0        0        0        0   \n",
       "56         0        0        0        0        0        0        0        0   \n",
       "140        0        0        0        0        1        0        0        0   \n",
       "120        0        0        0        0        0        0        0        0   \n",
       "\n",
       "     ID_18.0  ID_19.0  ID_20.0  ID_21.0  ID_22.0  ID_23.0  ID_24.0  ID_25.0  \\\n",
       "267        0        0        0        0        0        0        0        0   \n",
       "635        0        0        0        0        0        0        0        0   \n",
       "56         0        0        0        0        0        0        0        0   \n",
       "140        0        0        0        0        0        0        0        0   \n",
       "120        0        0        0        0        0        0        0        0   \n",
       "\n",
       "     ID_26.0  ID_27.0  ID_28.0  ID_29.0  ID_30.0  ID_31.0  ID_32.0  ID_33.0  \\\n",
       "267        0        0        0        0        0        0        0        0   \n",
       "635        0        0        0        0        0        0        0        1   \n",
       "56         0        0        1        0        0        0        0        0   \n",
       "140        0        0        0        0        0        0        0        0   \n",
       "120        0        0        1        0        0        0        0        0   \n",
       "\n",
       "     ID_34.0  ID_35.0  ID_36.0  Reason for absence_0.0  \\\n",
       "267        0        0        0                       0   \n",
       "635        0        0        0                       0   \n",
       "56         0        0        0                       0   \n",
       "140        0        0        0                       0   \n",
       "120        0        0        0                       0   \n",
       "\n",
       "     Reason for absence_1.0  Reason for absence_2.0  Reason for absence_3.0  \\\n",
       "267                       0                       0                       0   \n",
       "635                       0                       0                       0   \n",
       "56                        0                       0                       0   \n",
       "140                       0                       0                       0   \n",
       "120                       0                       0                       0   \n",
       "\n",
       "     Reason for absence_4.0  Reason for absence_5.0  Reason for absence_6.0  \\\n",
       "267                       0                       0                       0   \n",
       "635                       0                       0                       0   \n",
       "56                        0                       0                       0   \n",
       "140                       0                       0                       0   \n",
       "120                       0                       0                       0   \n",
       "\n",
       "     Reason for absence_7.0  Reason for absence_8.0  Reason for absence_9.0  \\\n",
       "267                       0                       0                       0   \n",
       "635                       0                       0                       0   \n",
       "56                        0                       0                       0   \n",
       "140                       0                       0                       0   \n",
       "120                       0                       0                       0   \n",
       "\n",
       "     Reason for absence_10.0  Reason for absence_11.0  \\\n",
       "267                        0                        0   \n",
       "635                        0                        0   \n",
       "56                         0                        0   \n",
       "140                        0                        0   \n",
       "120                        0                        0   \n",
       "\n",
       "     Reason for absence_12.0  Reason for absence_13.0  \\\n",
       "267                        0                        0   \n",
       "635                        0                        1   \n",
       "56                         0                        0   \n",
       "140                        0                        0   \n",
       "120                        0                        0   \n",
       "\n",
       "     Reason for absence_14.0  Reason for absence_15.0  \\\n",
       "267                        0                        0   \n",
       "635                        0                        0   \n",
       "56                         0                        0   \n",
       "140                        0                        0   \n",
       "120                        0                        0   \n",
       "\n",
       "     Reason for absence_16.0  Reason for absence_17.0  \\\n",
       "267                        0                        0   \n",
       "635                        0                        0   \n",
       "56                         0                        0   \n",
       "140                        0                        0   \n",
       "120                        0                        0   \n",
       "\n",
       "     Reason for absence_18.0  Reason for absence_19.0  \\\n",
       "267                        0                        1   \n",
       "635                        0                        0   \n",
       "56                         1                        0   \n",
       "140                        0                        0   \n",
       "120                        0                        0   \n",
       "\n",
       "     Reason for absence_21.0  Reason for absence_22.0  \\\n",
       "267                        0                        0   \n",
       "635                        0                        0   \n",
       "56                         0                        0   \n",
       "140                        0                        0   \n",
       "120                        0                        0   \n",
       "\n",
       "     Reason for absence_23.0  Reason for absence_24.0  \\\n",
       "267                        0                        0   \n",
       "635                        0                        0   \n",
       "56                         0                        0   \n",
       "140                        0                        0   \n",
       "120                        0                        0   \n",
       "\n",
       "     Reason for absence_25.0  Reason for absence_26.0  \\\n",
       "267                        0                        0   \n",
       "635                        0                        0   \n",
       "56                         0                        0   \n",
       "140                        0                        0   \n",
       "120                        0                        0   \n",
       "\n",
       "     Reason for absence_27.0  Reason for absence_28.0  Month of absence_0.0  \\\n",
       "267                        0                        0                     0   \n",
       "635                        0                        0                     0   \n",
       "56                         0                        0                     0   \n",
       "140                        0                        1                     0   \n",
       "120                        1                        0                     0   \n",
       "\n",
       "     Month of absence_1.0  Month of absence_2.0  Month of absence_3.0  \\\n",
       "267                     0                     0                     0   \n",
       "635                     0                     0                     1   \n",
       "56                      0                     0                     0   \n",
       "140                     0                     1                     0   \n",
       "120                     1                     0                     0   \n",
       "\n",
       "     Month of absence_4.0  Month of absence_5.0  Month of absence_6.0  \\\n",
       "267                     0                     0                     0   \n",
       "635                     0                     0                     0   \n",
       "56                      0                     0                     0   \n",
       "140                     0                     0                     0   \n",
       "120                     0                     0                     0   \n",
       "\n",
       "     Month of absence_7.0  Month of absence_8.0  Month of absence_9.0  \\\n",
       "267                     0                     1                     0   \n",
       "635                     0                     0                     0   \n",
       "56                      0                     0                     1   \n",
       "140                     0                     0                     0   \n",
       "120                     0                     0                     0   \n",
       "\n",
       "     Month of absence_10.0  Month of absence_11.0  Month of absence_12.0  \\\n",
       "267                      0                      0                      0   \n",
       "635                      0                      0                      0   \n",
       "56                       0                      0                      0   \n",
       "140                      0                      0                      0   \n",
       "120                      0                      0                      0   \n",
       "\n",
       "     Day of the week_2.0  Day of the week_3.0  Day of the week_4.0  \\\n",
       "267                    0                    0                    0   \n",
       "635                    1                    0                    0   \n",
       "56                     0                    0                    1   \n",
       "140                    0                    0                    0   \n",
       "120                    0                    0                    0   \n",
       "\n",
       "     Day of the week_5.0  Day of the week_6.0  Seasons_1.0  Seasons_2.0  \\\n",
       "267                    1                    0            1            0   \n",
       "635                    0                    0            0            1   \n",
       "56                     0                    0            0            0   \n",
       "140                    1                    0            0            1   \n",
       "120                    0                    1            0            1   \n",
       "\n",
       "     Seasons_3.0  Seasons_4.0  Education_1.0  Education_2.0  Education_3.0  \\\n",
       "267            0            0              0              0              1   \n",
       "635            0            0              1              0              0   \n",
       "56             0            1              1              0              0   \n",
       "140            0            0              1              0              0   \n",
       "120            0            0              1              0              0   \n",
       "\n",
       "     Education_4.0  Son_0.0  Son_1.0  Son_2.0  Son_3.0  Son_4.0  Pet_0.0  \\\n",
       "267              0        0        1        0        0        0        0   \n",
       "635              0        0        0        1        0        0        0   \n",
       "56               0        0        1        0        0        0        0   \n",
       "140              0        0        0        1        0        0        1   \n",
       "120              0        0        1        0        0        0        0   \n",
       "\n",
       "     Pet_1.0  Pet_2.0  Pet_4.0  Pet_5.0  Pet_8.0  Absenteeism time in hours  \n",
       "267        1        0        0        0        0                        8.0  \n",
       "635        1        0        0        0        0                        2.0  \n",
       "56         0        1        0        0        0                        3.0  \n",
       "140        0        0        0        0        0                        2.0  \n",
       "120        0        1        0        0        0                        1.0  "
      ]
     },
     "execution_count": 419,
     "metadata": {},
     "output_type": "execute_result"
    }
   ],
   "source": [
    "df_new = df3.drop(multiclass+['Absenteeism time in hours'],axis=1)\n",
    "\n",
    "for i in multiclass:\n",
    "    new_ind = pd.get_dummies(df3[i],prefix=i)\n",
    "    df_new = pd.concat([df_new,new_ind],axis=1)\n",
    "\n",
    "df_new = pd.concat([df_new,df3['Absenteeism time in hours']],axis=1)\n",
    "print (df_new.shape)\n",
    "df_new.sample(5)"
   ]
  },
  {
   "cell_type": "markdown",
   "metadata": {},
   "source": [
    "Let's import some of the libraries for error metrics."
   ]
  },
  {
   "cell_type": "code",
   "execution_count": 322,
   "metadata": {},
   "outputs": [],
   "source": [
    "from sklearn.model_selection import train_test_split # for sampling the whole dataset into training and testing\n",
    "from sklearn.tree import DecisionTreeRegressor #library for Decision Tree regression\n",
    "from sklearn.ensemble import RandomForestRegressor # library for random forest regression\n",
    "from sklearn.linear_model import LinearRegression # library for Linear Regression\n",
    "\n",
    "from sklearn.metrics import mean_squared_error,r2_score,mean_absolute_error # using error metrics for checking errors"
   ]
  },
  {
   "cell_type": "markdown",
   "metadata": {},
   "source": [
    "Let's split the data into train & test"
   ]
  },
  {
   "cell_type": "code",
   "execution_count": 420,
   "metadata": {},
   "outputs": [],
   "source": [
    "X_train, X_test, Y_train, Y_test = train_test_split( df_new2, df_new.iloc[:,-1], test_size = 0.20)"
   ]
  },
  {
   "cell_type": "code",
   "execution_count": 228,
   "metadata": {},
   "outputs": [],
   "source": [
    "def MAPE(y_true,preds):\n",
    "    values=[]\n",
    "    for (x,y) in zip(list(y_true),list(preds)):\n",
    "        if x==0:\n",
    "            values.append(y) # otherwise you get ZeroDivisionError: as 0-y/0 is not defined\n",
    "        else:    \n",
    "            values.append((abs(x-y)/x))\n",
    "    return (sum(values)/len(values))*100    \n",
    "    #mape = np.mean(np.abs((y_true-preds)/y_true))*100\n",
    "    #return mape"
   ]
  },
  {
   "cell_type": "code",
   "execution_count": 217,
   "metadata": {},
   "outputs": [],
   "source": [
    "def mape(y_true, y_pred): \n",
    "    y_true, y_pred = np.array(y_true), np.array(y_pred)\n",
    "    return np.mean(np.abs((y_true - y_pred) / y_true)) * 100"
   ]
  },
  {
   "cell_type": "markdown",
   "metadata": {},
   "source": [
    "### Decsion Trees Regression"
   ]
  },
  {
   "cell_type": "code",
   "execution_count": 421,
   "metadata": {},
   "outputs": [
    {
     "name": "stdout",
     "output_type": "stream",
     "text": [
      "Decision-tree Regressor (error-metrics):\n",
      "R-square Score(coefficient of determination) training = 0.12321433022584427\n",
      "R-square Score(coefficient of determination) testing= -0.059870021359819114\n",
      "RMSE testing data = 17.165750167825152\n",
      "Mean Absolute Error (test):  7.127119721153773\n"
     ]
    }
   ],
   "source": [
    "c50_model = DecisionTreeRegressor().fit(X_train,Y_train)\n",
    "\n",
    "# to check for over fitting for training data, we calculate RMSE.\n",
    "train_preds = c50_model.predict(X_train)\n",
    "rmse_train = np.sqrt(mean_squared_error(Y_train,train_preds))\n",
    "\n",
    "# to check accuracy of the model, we calculate RMSE for test data \n",
    "testPreds = c50_model.predict(X_test)\n",
    "rmse_test = np.sqrt(mean_squared_error(Y_test,testPreds))\n",
    "\n",
    "print ('Decision-tree Regressor (error-metrics):')\n",
    "print(\"R-square Score(coefficient of determination) training = \"+str(r2_score(Y_train,train_preds)))\n",
    "print(\"R-square Score(coefficient of determination) testing= \"+str(r2_score(Y_test,testPreds)))\n",
    "print(\"RMSE testing data = \"+str(rmse_test))\n",
    "print ('Mean Absolute Error (test): ',mean_absolute_error(Y_test,testPreds))"
   ]
  },
  {
   "cell_type": "markdown",
   "metadata": {},
   "source": [
    "### Random Forest regression"
   ]
  },
  {
   "cell_type": "code",
   "execution_count": 422,
   "metadata": {},
   "outputs": [
    {
     "name": "stdout",
     "output_type": "stream",
     "text": [
      "R-square Score(coefficient of determination) testing= -0.05394014049913065\n",
      "RMSE testing data = 17.117662369902533\n",
      "Mean Absolute Error (test):  7.135270704625365\n"
     ]
    }
   ],
   "source": [
    "RF_model = RandomForestRegressor().fit(X_train,Y_train)\n",
    "RF_preds = RF_model.predict(X_test)\n",
    "rmse_test = np.sqrt(mean_squared_error(Y_test,RF_preds))\n",
    "print(\"R-square Score(coefficient of determination) testing= \"+str(r2_score(Y_test,RF_preds)))\n",
    "print(\"RMSE testing data = \"+str(rmse_test))\n",
    "print ('Mean Absolute Error (test): ',mean_absolute_error(Y_test,RF_preds))"
   ]
  },
  {
   "cell_type": "markdown",
   "metadata": {},
   "source": [
    "### Linear Regression"
   ]
  },
  {
   "cell_type": "code",
   "execution_count": 423,
   "metadata": {},
   "outputs": [
    {
     "name": "stdout",
     "output_type": "stream",
     "text": [
      "Linear Regression (error-metrics):\n",
      "Root Mean Squared Error For Training data = 12.19648810885417\n",
      "Root Mean Squared Error For Test data = 16.857352159818117\n",
      "Mean Absolute Error:  6.886603320451239\n",
      "R^2 Score(coefficient of determination)testing = -0.022129099082449644\n"
     ]
    }
   ],
   "source": [
    "LR_model = LinearRegression().fit(X_train ,Y_train)\n",
    "\n",
    "#  RMSE of training data to check if there is over fitting\n",
    "LR_train_preds = LR_model.predict(X_train)\n",
    "LR_RMSE_train  = np.sqrt(mean_squared_error(Y_train,LR_train_preds))\n",
    "\n",
    "#  RMSE for test data to check accuracy of model.\n",
    "LR_test_preds = LR_model.predict(X_test)\n",
    "LR_RMSE_test  = np.sqrt(mean_squared_error(Y_test,LR_test_preds))\n",
    "\n",
    "print ('Linear Regression (error-metrics):')\n",
    "print(\"Root Mean Squared Error For Training data = \"+str(LR_RMSE_train))\n",
    "print(\"Root Mean Squared Error For Test data = \"+str(LR_RMSE_test))\n",
    "print ('Mean Absolute Error: ',mean_absolute_error(Y_test,LR_test_preds))\n",
    "print(\"R^2 Score(coefficient of determination)testing = \"+str(r2_score(Y_test,LR_test_preds)))"
   ]
  },
  {
   "cell_type": "markdown",
   "metadata": {},
   "source": [
    "### K-Nearest Neighbours Regression"
   ]
  },
  {
   "cell_type": "code",
   "execution_count": 386,
   "metadata": {},
   "outputs": [
    {
     "name": "stdout",
     "output_type": "stream",
     "text": [
      "Root Mean Squared Error For Test data = 15.394914042578424\n",
      "Mean Absolute Error:  7.300675675675675\n",
      "R^2 Score(coefficient of determination)testing = 0.058880752123550595\n"
     ]
    }
   ],
   "source": [
    "from sklearn.neighbors import KNeighborsRegressor\n",
    "K_model = KNeighborsRegressor(n_neighbors=4).fit(X_train,Y_train)\n",
    "K_preds = K_model.predict(X_test)\n",
    "K_RMSE_test= np.sqrt(mean_squared_error(Y_test,K_preds))\n",
    "print(\"Root Mean Squared Error For Test data = \"+str(K_RMSE_test))\n",
    "print ('Mean Absolute Error: ',mean_absolute_error(Y_test,K_preds))\n",
    "print(\"R^2 Score(coefficient of determination)testing = \"+str(r2_score(Y_test,K_preds)))"
   ]
  },
  {
   "cell_type": "markdown",
   "metadata": {},
   "source": [
    "### ADABoost Regression"
   ]
  },
  {
   "cell_type": "code",
   "execution_count": 388,
   "metadata": {},
   "outputs": [
    {
     "name": "stdout",
     "output_type": "stream",
     "text": [
      "Root Mean Squared Error For Test data = 16.724879282156625\n",
      "Mean Absolute Error:  8.717010441437319\n",
      "R^2 Score(coefficient of determination)testing = -0.1107494389996222\n"
     ]
    }
   ],
   "source": [
    "from sklearn.ensemble import AdaBoostRegressor\n",
    "ADA_model = AdaBoostRegressor()\n",
    "ADA_model.fit(X_train,Y_train)\n",
    "ADA_preds = ADA_model.predict(X_test)\n",
    "\n",
    "ADA_RMSE = np.sqrt(mean_squared_error(Y_test,ADA_preds))\n",
    "print(\"Root Mean Squared Error For Test data = \"+str(ADA_RMSE))\n",
    "print ('Mean Absolute Error: ',mean_absolute_error(Y_test,ADA_preds))\n",
    "print(\"R^2 Score(coefficient of determination)testing = \"+str(r2_score(Y_test,ADA_preds)))"
   ]
  },
  {
   "cell_type": "markdown",
   "metadata": {},
   "source": [
    "### XGBoost Regression"
   ]
  },
  {
   "cell_type": "code",
   "execution_count": 387,
   "metadata": {},
   "outputs": [
    {
     "name": "stdout",
     "output_type": "stream",
     "text": [
      "Root Mean Squared Error For Test data = 15.458236440181413\n",
      "Mean Absolute Error:  6.558192384404105\n",
      "R^2 Score(coefficient of determination)testing = 0.05112280193515506\n"
     ]
    }
   ],
   "source": [
    "from xgboost import XGBRegressor\n",
    "XG_model = XGBRegressor().fit(X_train,Y_train)\n",
    "XG_preds = XG_model.predict(X_test)\n",
    "XG_RMSE_test  = np.sqrt(mean_squared_error(Y_test,XG_preds))\n",
    "print(\"Root Mean Squared Error For Test data = \"+str(XG_RMSE_test))\n",
    "print ('Mean Absolute Error: ',mean_absolute_error(Y_test,XG_preds))\n",
    "print(\"R^2 Score(coefficient of determination)testing = \"+str(r2_score(Y_test,XG_preds)))"
   ]
  },
  {
   "cell_type": "markdown",
   "metadata": {},
   "source": [
    "### Neural Network"
   ]
  },
  {
   "cell_type": "markdown",
   "metadata": {},
   "source": [
    "Import the Keras modules."
   ]
  },
  {
   "cell_type": "code",
   "execution_count": 268,
   "metadata": {},
   "outputs": [],
   "source": [
    "from keras.models import Sequential\n",
    "from keras.layers import Dense, Dropout\n",
    "from keras.callbacks import History"
   ]
  },
  {
   "cell_type": "markdown",
   "metadata": {},
   "source": [
    "Split the data into training & validation"
   ]
  },
  {
   "cell_type": "code",
   "execution_count": 366,
   "metadata": {},
   "outputs": [],
   "source": [
    "x_train, x_val, y_train, y_val = train_test_split( X_train, Y_train, test_size = 0.20)"
   ]
  },
  {
   "cell_type": "code",
   "execution_count": 426,
   "metadata": {},
   "outputs": [
    {
     "name": "stdout",
     "output_type": "stream",
     "text": [
      "Epoch 1/100\n",
      "30/30 [==============================] - 1s 22ms/step - loss: 209.2093 - mean_absolute_error: 6.0690 - val_loss: 304.3477 - val_mean_absolute_error: 7.1232\n",
      "Epoch 2/100\n",
      "30/30 [==============================] - 0s 6ms/step - loss: 188.5649 - mean_absolute_error: 5.2124 - val_loss: 280.5203 - val_mean_absolute_error: 6.6408\n",
      "Epoch 3/100\n",
      "30/30 [==============================] - 0s 6ms/step - loss: 177.5009 - mean_absolute_error: 5.4873 - val_loss: 267.2940 - val_mean_absolute_error: 6.7785\n",
      "Epoch 4/100\n",
      "30/30 [==============================] - 0s 5ms/step - loss: 174.1534 - mean_absolute_error: 5.7835 - val_loss: 263.7618 - val_mean_absolute_error: 6.8310\n",
      "Epoch 5/100\n",
      "30/30 [==============================] - 0s 5ms/step - loss: 173.8003 - mean_absolute_error: 6.0339 - val_loss: 261.6790 - val_mean_absolute_error: 6.8791\n",
      "Epoch 6/100\n",
      "30/30 [==============================] - 0s 5ms/step - loss: 173.8614 - mean_absolute_error: 6.0633 - val_loss: 261.4471 - val_mean_absolute_error: 6.8807\n",
      "Epoch 7/100\n",
      "30/30 [==============================] - 0s 5ms/step - loss: 173.8366 - mean_absolute_error: 6.0445 - val_loss: 261.9396 - val_mean_absolute_error: 6.8638\n",
      "Epoch 8/100\n",
      "30/30 [==============================] - 0s 6ms/step - loss: 173.7869 - mean_absolute_error: 6.0398 - val_loss: 261.7664 - val_mean_absolute_error: 6.8674\n",
      "Epoch 9/100\n",
      "30/30 [==============================] - 0s 5ms/step - loss: 173.8223 - mean_absolute_error: 6.0461 - val_loss: 261.7809 - val_mean_absolute_error: 6.8641\n",
      "Epoch 10/100\n",
      "30/30 [==============================] - 0s 6ms/step - loss: 173.8449 - mean_absolute_error: 6.0404 - val_loss: 261.5648 - val_mean_absolute_error: 6.8657\n",
      "Epoch 11/100\n",
      "30/30 [==============================] - 0s 5ms/step - loss: 173.9709 - mean_absolute_error: 5.9832 - val_loss: 262.4743 - val_mean_absolute_error: 6.8427\n",
      "Epoch 12/100\n",
      "30/30 [==============================] - 0s 5ms/step - loss: 174.1276 - mean_absolute_error: 5.9665 - val_loss: 262.1252 - val_mean_absolute_error: 6.8461\n",
      "Epoch 13/100\n",
      "30/30 [==============================] - 0s 6ms/step - loss: 173.8539 - mean_absolute_error: 6.1270 - val_loss: 260.3247 - val_mean_absolute_error: 6.8990\n",
      "Epoch 14/100\n",
      "30/30 [==============================] - 0s 5ms/step - loss: 174.1280 - mean_absolute_error: 6.0411 - val_loss: 261.5886 - val_mean_absolute_error: 6.8552\n",
      "Epoch 15/100\n",
      "30/30 [==============================] - 0s 5ms/step - loss: 173.8351 - mean_absolute_error: 6.0948 - val_loss: 261.1442 - val_mean_absolute_error: 6.8652\n",
      "Epoch 16/100\n",
      "30/30 [==============================] - 0s 5ms/step - loss: 173.8666 - mean_absolute_error: 6.0559 - val_loss: 262.3325 - val_mean_absolute_error: 6.8359\n",
      "Epoch 17/100\n",
      "30/30 [==============================] - 0s 5ms/step - loss: 173.8707 - mean_absolute_error: 5.9886 - val_loss: 261.3318 - val_mean_absolute_error: 6.8579\n",
      "Epoch 18/100\n",
      "30/30 [==============================] - 0s 6ms/step - loss: 173.8215 - mean_absolute_error: 6.0366 - val_loss: 261.8070 - val_mean_absolute_error: 6.8414\n",
      "Epoch 19/100\n",
      "30/30 [==============================] - 0s 6ms/step - loss: 173.7110 - mean_absolute_error: 6.0473 - val_loss: 261.1472 - val_mean_absolute_error: 6.8574\n",
      "Epoch 20/100\n",
      "30/30 [==============================] - 0s 5ms/step - loss: 173.8838 - mean_absolute_error: 5.9985 - val_loss: 261.6503 - val_mean_absolute_error: 6.8386\n",
      "Epoch 21/100\n",
      "30/30 [==============================] - 0s 5ms/step - loss: 173.9879 - mean_absolute_error: 6.1024 - val_loss: 260.8825 - val_mean_absolute_error: 6.8624\n",
      "Epoch 22/100\n",
      "30/30 [==============================] - 0s 5ms/step - loss: 173.7512 - mean_absolute_error: 6.0068 - val_loss: 262.1690 - val_mean_absolute_error: 6.8291\n",
      "Epoch 23/100\n",
      "30/30 [==============================] - 0s 5ms/step - loss: 174.0382 - mean_absolute_error: 6.0561 - val_loss: 260.9695 - val_mean_absolute_error: 6.8556\n",
      "Epoch 24/100\n",
      "30/30 [==============================] - 0s 5ms/step - loss: 173.8449 - mean_absolute_error: 6.0108 - val_loss: 261.9002 - val_mean_absolute_error: 6.8309\n",
      "Epoch 25/100\n",
      "30/30 [==============================] - 0s 6ms/step - loss: 173.7914 - mean_absolute_error: 5.9836 - val_loss: 261.4021 - val_mean_absolute_error: 6.8418\n",
      "Epoch 26/100\n",
      "30/30 [==============================] - 0s 5ms/step - loss: 173.8921 - mean_absolute_error: 6.0700 - val_loss: 261.3649 - val_mean_absolute_error: 6.8380\n",
      "Epoch 27/100\n",
      "30/30 [==============================] - 0s 5ms/step - loss: 173.8933 - mean_absolute_error: 6.0074 - val_loss: 261.2386 - val_mean_absolute_error: 6.8392\n",
      "Epoch 28/100\n",
      "30/30 [==============================] - 0s 5ms/step - loss: 173.8346 - mean_absolute_error: 6.0772 - val_loss: 260.7409 - val_mean_absolute_error: 6.8524\n",
      "Epoch 29/100\n",
      "30/30 [==============================] - 0s 6ms/step - loss: 173.7914 - mean_absolute_error: 6.0835 - val_loss: 261.0031 - val_mean_absolute_error: 6.8455\n",
      "Epoch 30/100\n",
      "30/30 [==============================] - 0s 5ms/step - loss: 173.9364 - mean_absolute_error: 5.9518 - val_loss: 262.1971 - val_mean_absolute_error: 6.8145\n",
      "Epoch 31/100\n",
      "30/30 [==============================] - 0s 6ms/step - loss: 173.8330 - mean_absolute_error: 6.0265 - val_loss: 261.4882 - val_mean_absolute_error: 6.8294\n",
      "Epoch 32/100\n",
      "30/30 [==============================] - 0s 5ms/step - loss: 173.9667 - mean_absolute_error: 6.0708 - val_loss: 261.3008 - val_mean_absolute_error: 6.8332\n",
      "Epoch 33/100\n",
      "30/30 [==============================] - 0s 5ms/step - loss: 173.6917 - mean_absolute_error: 6.0119 - val_loss: 261.5554 - val_mean_absolute_error: 6.8248\n",
      "Epoch 34/100\n",
      "30/30 [==============================] - 0s 5ms/step - loss: 174.1001 - mean_absolute_error: 5.9608 - val_loss: 262.2736 - val_mean_absolute_error: 6.8040\n",
      "Epoch 35/100\n",
      "30/30 [==============================] - 0s 5ms/step - loss: 173.8829 - mean_absolute_error: 6.0287 - val_loss: 260.7035 - val_mean_absolute_error: 6.8435\n",
      "Epoch 36/100\n",
      "30/30 [==============================] - 0s 7ms/step - loss: 173.6534 - mean_absolute_error: 6.0567 - val_loss: 261.1479 - val_mean_absolute_error: 6.8315\n",
      "Epoch 37/100\n",
      "30/30 [==============================] - 0s 7ms/step - loss: 173.6759 - mean_absolute_error: 6.0097 - val_loss: 261.4781 - val_mean_absolute_error: 6.8217\n",
      "Epoch 38/100\n",
      "30/30 [==============================] - 0s 8ms/step - loss: 173.7194 - mean_absolute_error: 5.9817 - val_loss: 261.4815 - val_mean_absolute_error: 6.8209\n",
      "Epoch 39/100\n",
      "30/30 [==============================] - 0s 8ms/step - loss: 173.7623 - mean_absolute_error: 6.0180 - val_loss: 261.6199 - val_mean_absolute_error: 6.8114\n",
      "Epoch 40/100\n",
      "30/30 [==============================] - 0s 8ms/step - loss: 173.9129 - mean_absolute_error: 6.0351 - val_loss: 260.5959 - val_mean_absolute_error: 6.8394\n",
      "Epoch 41/100\n",
      "30/30 [==============================] - 0s 8ms/step - loss: 173.8568 - mean_absolute_error: 5.9775 - val_loss: 261.9256 - val_mean_absolute_error: 6.8040\n",
      "Epoch 42/100\n",
      "30/30 [==============================] - 0s 5ms/step - loss: 173.7381 - mean_absolute_error: 5.9580 - val_loss: 261.3701 - val_mean_absolute_error: 6.8195\n",
      "Epoch 43/100\n",
      "30/30 [==============================] - 0s 5ms/step - loss: 174.3152 - mean_absolute_error: 6.1154 - val_loss: 260.4677 - val_mean_absolute_error: 6.8421\n",
      "Epoch 44/100\n",
      "30/30 [==============================] - 0s 5ms/step - loss: 173.6964 - mean_absolute_error: 6.0395 - val_loss: 260.9874 - val_mean_absolute_error: 6.8271\n",
      "Epoch 45/100\n",
      "30/30 [==============================] - 0s 6ms/step - loss: 173.9908 - mean_absolute_error: 5.9573 - val_loss: 262.0204 - val_mean_absolute_error: 6.7984\n",
      "Epoch 46/100\n",
      "30/30 [==============================] - 0s 6ms/step - loss: 173.8015 - mean_absolute_error: 6.0061 - val_loss: 260.4949 - val_mean_absolute_error: 6.8385\n",
      "Epoch 47/100\n",
      "30/30 [==============================] - 0s 6ms/step - loss: 173.6720 - mean_absolute_error: 6.0413 - val_loss: 261.0757 - val_mean_absolute_error: 6.8199\n",
      "Epoch 48/100\n",
      "30/30 [==============================] - 0s 5ms/step - loss: 173.8779 - mean_absolute_error: 6.0242 - val_loss: 260.4450 - val_mean_absolute_error: 6.8371\n",
      "Epoch 49/100\n",
      "30/30 [==============================] - 0s 5ms/step - loss: 173.7365 - mean_absolute_error: 6.0160 - val_loss: 261.4669 - val_mean_absolute_error: 6.8133\n"
     ]
    },
    {
     "name": "stdout",
     "output_type": "stream",
     "text": [
      "Epoch 50/100\n",
      "30/30 [==============================] - 0s 6ms/step - loss: 174.0050 - mean_absolute_error: 6.0922 - val_loss: 260.7451 - val_mean_absolute_error: 6.8282\n",
      "Epoch 51/100\n",
      "30/30 [==============================] - 0s 6ms/step - loss: 173.8606 - mean_absolute_error: 5.9683 - val_loss: 261.5550 - val_mean_absolute_error: 6.8065\n",
      "Epoch 52/100\n",
      "30/30 [==============================] - 0s 8ms/step - loss: 173.9140 - mean_absolute_error: 5.9816 - val_loss: 260.9023 - val_mean_absolute_error: 6.8218\n",
      "Epoch 53/100\n",
      "30/30 [==============================] - 0s 5ms/step - loss: 173.9628 - mean_absolute_error: 6.0771 - val_loss: 261.3526 - val_mean_absolute_error: 6.8118\n",
      "Epoch 54/100\n",
      "30/30 [==============================] - 0s 5ms/step - loss: 173.8215 - mean_absolute_error: 6.0471 - val_loss: 260.8604 - val_mean_absolute_error: 6.8229\n",
      "Epoch 55/100\n",
      "30/30 [==============================] - 0s 7ms/step - loss: 173.8051 - mean_absolute_error: 6.0094 - val_loss: 261.0272 - val_mean_absolute_error: 6.8189\n",
      "Epoch 56/100\n",
      "30/30 [==============================] - 0s 7ms/step - loss: 173.9483 - mean_absolute_error: 6.0648 - val_loss: 261.1046 - val_mean_absolute_error: 6.8111\n",
      "Epoch 57/100\n",
      "30/30 [==============================] - 0s 6ms/step - loss: 173.8234 - mean_absolute_error: 6.0589 - val_loss: 261.2438 - val_mean_absolute_error: 6.8122\n",
      "Epoch 58/100\n",
      "30/30 [==============================] - 0s 6ms/step - loss: 173.8369 - mean_absolute_error: 5.9383 - val_loss: 262.5063 - val_mean_absolute_error: 6.7841\n",
      "Epoch 59/100\n",
      "30/30 [==============================] - 0s 6ms/step - loss: 173.7863 - mean_absolute_error: 5.9293 - val_loss: 260.9626 - val_mean_absolute_error: 6.8177\n",
      "Epoch 60/100\n",
      "30/30 [==============================] - 0s 6ms/step - loss: 173.9176 - mean_absolute_error: 6.0800 - val_loss: 261.1878 - val_mean_absolute_error: 6.8118\n",
      "Epoch 61/100\n",
      "30/30 [==============================] - 0s 6ms/step - loss: 174.0660 - mean_absolute_error: 6.0694 - val_loss: 260.1064 - val_mean_absolute_error: 6.8389\n",
      "Epoch 62/100\n",
      "30/30 [==============================] - 0s 6ms/step - loss: 173.7848 - mean_absolute_error: 5.9889 - val_loss: 261.5829 - val_mean_absolute_error: 6.7996\n",
      "Epoch 63/100\n",
      "30/30 [==============================] - 0s 6ms/step - loss: 173.9467 - mean_absolute_error: 6.0249 - val_loss: 260.9846 - val_mean_absolute_error: 6.8132\n",
      "Epoch 64/100\n",
      "30/30 [==============================] - 0s 5ms/step - loss: 174.0986 - mean_absolute_error: 5.9646 - val_loss: 261.7555 - val_mean_absolute_error: 6.7970\n",
      "Epoch 65/100\n",
      "30/30 [==============================] - 0s 5ms/step - loss: 173.7748 - mean_absolute_error: 6.0037 - val_loss: 260.4185 - val_mean_absolute_error: 6.8265\n",
      "Epoch 66/100\n",
      "30/30 [==============================] - 0s 6ms/step - loss: 173.6888 - mean_absolute_error: 6.0133 - val_loss: 261.0289 - val_mean_absolute_error: 6.8078\n",
      "Epoch 67/100\n",
      "30/30 [==============================] - 0s 6ms/step - loss: 173.7340 - mean_absolute_error: 6.0618 - val_loss: 260.4489 - val_mean_absolute_error: 6.8276\n",
      "Epoch 68/100\n",
      "30/30 [==============================] - 0s 5ms/step - loss: 173.8009 - mean_absolute_error: 5.9956 - val_loss: 261.1678 - val_mean_absolute_error: 6.8087\n",
      "Epoch 69/100\n",
      "30/30 [==============================] - 0s 5ms/step - loss: 173.6684 - mean_absolute_error: 6.0111 - val_loss: 261.3503 - val_mean_absolute_error: 6.8037\n",
      "Epoch 70/100\n",
      "30/30 [==============================] - 0s 5ms/step - loss: 173.8245 - mean_absolute_error: 5.9737 - val_loss: 260.7759 - val_mean_absolute_error: 6.8144\n",
      "Epoch 71/100\n",
      "30/30 [==============================] - 0s 5ms/step - loss: 173.6860 - mean_absolute_error: 6.0489 - val_loss: 260.4700 - val_mean_absolute_error: 6.8246\n",
      "Epoch 72/100\n",
      "30/30 [==============================] - 0s 6ms/step - loss: 174.0009 - mean_absolute_error: 5.9917 - val_loss: 262.1234 - val_mean_absolute_error: 6.7787\n",
      "Epoch 73/100\n",
      "30/30 [==============================] - 0s 5ms/step - loss: 173.6596 - mean_absolute_error: 5.9637 - val_loss: 261.0768 - val_mean_absolute_error: 6.8086\n",
      "Epoch 74/100\n",
      "30/30 [==============================] - 0s 5ms/step - loss: 173.7963 - mean_absolute_error: 6.1189 - val_loss: 260.0058 - val_mean_absolute_error: 6.8427\n",
      "Epoch 75/100\n",
      "30/30 [==============================] - 0s 6ms/step - loss: 173.8156 - mean_absolute_error: 6.1260 - val_loss: 260.1581 - val_mean_absolute_error: 6.8333\n",
      "Epoch 76/100\n",
      "30/30 [==============================] - 0s 5ms/step - loss: 173.7304 - mean_absolute_error: 6.0741 - val_loss: 260.9564 - val_mean_absolute_error: 6.8145\n",
      "Epoch 77/100\n",
      "30/30 [==============================] - 0s 6ms/step - loss: 173.7663 - mean_absolute_error: 5.9908 - val_loss: 261.0456 - val_mean_absolute_error: 6.8128\n",
      "Epoch 78/100\n",
      "30/30 [==============================] - 0s 6ms/step - loss: 173.6868 - mean_absolute_error: 6.0349 - val_loss: 261.0868 - val_mean_absolute_error: 6.8111\n",
      "Epoch 79/100\n",
      "30/30 [==============================] - 0s 5ms/step - loss: 173.8327 - mean_absolute_error: 6.0027 - val_loss: 261.1181 - val_mean_absolute_error: 6.8104\n",
      "Epoch 80/100\n",
      "30/30 [==============================] - 0s 5ms/step - loss: 173.6883 - mean_absolute_error: 6.0076 - val_loss: 261.0368 - val_mean_absolute_error: 6.8115\n",
      "Epoch 81/100\n",
      "30/30 [==============================] - 0s 6ms/step - loss: 173.7979 - mean_absolute_error: 5.9993 - val_loss: 261.0590 - val_mean_absolute_error: 6.8099\n",
      "Epoch 82/100\n",
      "30/30 [==============================] - 0s 6ms/step - loss: 173.8908 - mean_absolute_error: 6.0487 - val_loss: 260.7075 - val_mean_absolute_error: 6.8181\n",
      "Epoch 83/100\n",
      "30/30 [==============================] - 0s 6ms/step - loss: 173.6293 - mean_absolute_error: 5.9868 - val_loss: 261.3957 - val_mean_absolute_error: 6.8022\n",
      "Epoch 84/100\n",
      "30/30 [==============================] - 0s 5ms/step - loss: 173.6494 - mean_absolute_error: 6.0051 - val_loss: 261.0722 - val_mean_absolute_error: 6.8099\n",
      "Epoch 85/100\n",
      "30/30 [==============================] - 0s 5ms/step - loss: 173.7259 - mean_absolute_error: 5.9992 - val_loss: 260.9088 - val_mean_absolute_error: 6.8103\n",
      "Epoch 86/100\n",
      "30/30 [==============================] - 0s 6ms/step - loss: 173.6914 - mean_absolute_error: 5.9988 - val_loss: 261.4410 - val_mean_absolute_error: 6.7971\n",
      "Epoch 87/100\n",
      "30/30 [==============================] - 0s 5ms/step - loss: 173.7229 - mean_absolute_error: 5.9971 - val_loss: 261.0206 - val_mean_absolute_error: 6.8020\n",
      "Epoch 88/100\n",
      "30/30 [==============================] - 0s 6ms/step - loss: 173.6457 - mean_absolute_error: 6.0205 - val_loss: 260.7857 - val_mean_absolute_error: 6.8202\n",
      "Epoch 89/100\n",
      "30/30 [==============================] - 0s 6ms/step - loss: 173.8415 - mean_absolute_error: 6.0229 - val_loss: 260.4844 - val_mean_absolute_error: 6.8282\n",
      "Epoch 90/100\n",
      "30/30 [==============================] - 0s 5ms/step - loss: 173.9111 - mean_absolute_error: 6.0182 - val_loss: 260.8869 - val_mean_absolute_error: 6.8158\n",
      "Epoch 91/100\n",
      "30/30 [==============================] - 0s 5ms/step - loss: 173.7443 - mean_absolute_error: 5.9884 - val_loss: 261.2647 - val_mean_absolute_error: 6.8030\n",
      "Epoch 92/100\n",
      "30/30 [==============================] - 0s 5ms/step - loss: 173.9816 - mean_absolute_error: 6.0048 - val_loss: 260.7722 - val_mean_absolute_error: 6.8157\n",
      "Epoch 93/100\n",
      "30/30 [==============================] - 0s 5ms/step - loss: 173.7444 - mean_absolute_error: 6.0665 - val_loss: 260.1485 - val_mean_absolute_error: 6.8360\n",
      "Epoch 94/100\n",
      "30/30 [==============================] - 0s 6ms/step - loss: 174.0221 - mean_absolute_error: 5.9812 - val_loss: 261.5503 - val_mean_absolute_error: 6.7995\n",
      "Epoch 95/100\n",
      "30/30 [==============================] - 0s 6ms/step - loss: 173.9919 - mean_absolute_error: 6.1017 - val_loss: 260.0173 - val_mean_absolute_error: 6.8377\n",
      "Epoch 96/100\n",
      "30/30 [==============================] - 0s 5ms/step - loss: 173.6916 - mean_absolute_error: 6.0270 - val_loss: 261.1992 - val_mean_absolute_error: 6.8056\n",
      "Epoch 97/100\n",
      "30/30 [==============================] - 0s 5ms/step - loss: 173.8228 - mean_absolute_error: 6.0456 - val_loss: 261.2557 - val_mean_absolute_error: 6.8052\n",
      "Epoch 98/100\n",
      "30/30 [==============================] - 0s 5ms/step - loss: 173.8003 - mean_absolute_error: 6.0099 - val_loss: 261.1719 - val_mean_absolute_error: 6.8065\n"
     ]
    },
    {
     "name": "stdout",
     "output_type": "stream",
     "text": [
      "Epoch 99/100\n",
      "30/30 [==============================] - 0s 5ms/step - loss: 173.6747 - mean_absolute_error: 5.9744 - val_loss: 261.5000 - val_mean_absolute_error: 6.7995\n",
      "Epoch 100/100\n",
      "30/30 [==============================] - 0s 6ms/step - loss: 173.7143 - mean_absolute_error: 5.9857 - val_loss: 260.9574 - val_mean_absolute_error: 6.8090\n",
      "5/5 [==============================] - 0s 4ms/step - loss: 278.0797 - mean_absolute_error: 6.8850\n",
      "Metric  loss : 278.08\n",
      "Metric  mean_absolute_error : 6.88\n"
     ]
    },
    {
     "data": {
      "image/png": "[encoded data removed]",
      "text/plain": [
       "<Figure size 432x288 with 1 Axes>"
      ]
     },
     "metadata": {
      "needs_background": "light"
     },
     "output_type": "display_data"
    },
    {
     "name": "stdout",
     "output_type": "stream",
     "text": [
      "Root Mean Squared Error For Test data = 16.675721834801134\n",
      "Mean Absolute Error:  6.88499412665496\n",
      "R^2 Score(coefficient of determination)testing = -0.00022180387008341462\n"
     ]
    }
   ],
   "source": [
    "history = History()\n",
    "model = Sequential()\n",
    "model.add(Dense(64,input_dim = x_train.shape[1],activation=\"tanh\"))\n",
    "model.add(Dense(128,activation = \"sigmoid\"))\n",
    "model.add(Dense(1,activation = \"linear\"))\n",
    "model.compile(optimizer='adam',loss=\"mean_squared_error\",metrics=[\"mean_absolute_error\"])\n",
    "\n",
    "#Train the model\n",
    "model.fit(x_train.values,y_train.values, validation_data=(x_val,y_val),epochs=100,batch_size=16,callbacks=[history])\n",
    "\n",
    "#Use the model's evaluate method to predict and evaluate the test datasets\n",
    "result = model.evaluate(X_test.values,Y_test.values)\n",
    "\n",
    "#Print the results\n",
    "for i in range(len(model.metrics_names)):\n",
    "    print(\"Metric \",model.metrics_names[i],\":\",str(round(result[i],2)))\n",
    "    \n",
    "\n",
    "DL_preds = model.predict(X_test)\n",
    "DL_RMSE_test = np.sqrt(mean_squared_error(Y_test,DL_preds))\n",
    "    \n",
    "plt.plot(history.history['loss'])\n",
    "plt.plot(history.history['val_loss'])\n",
    "plt.title(\"Model's Training & Validation loss across epochs\")\n",
    "plt.ylabel('Loss')\n",
    "plt.xlabel('Epochs')\n",
    "plt.legend(['Train', 'Validation'], loc='upper right')\n",
    "plt.show()    \n",
    "\n",
    "print(\"Root Mean Squared Error For Test data = \"+str(DL_RMSE_test))\n",
    "print ('Mean Absolute Error: ',mean_absolute_error(Y_test,DL_preds))\n",
    "print(\"R^2 Score(coefficient of determination)testing = \"+str(r2_score(Y_test,DL_preds))) "
   ]
  },
  {
   "cell_type": "markdown",
   "metadata": {},
   "source": [
    "In all the models used above for regression, None of the models gave a good error metric, none of the models has a decent R2 score, with most of them in negative. <br>\n",
    "What we can do is try to change the problem to Employee Absenteeism classification (binary, where 0 is less than median value & 1 is greater than the median). <br> "
   ]
  }
 ],
 "metadata": {
  "kernelspec": {
   "display_name": "Python 3",
   "language": "python",
   "name": "python3"
  },
  "language_info": {
   "codemirror_mode": {
    "name": "ipython",
    "version": 3
   },
   "file_extension": ".py",
   "mimetype": "text/x-python",
   "name": "python",
   "nbconvert_exporter": "python",
   "pygments_lexer": "ipython3",
   "version": "3.7.2"
  }
 },
 "nbformat": 4,
 "nbformat_minor": 4
}
